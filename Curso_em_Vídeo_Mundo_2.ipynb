{
  "nbformat": 4,
  "nbformat_minor": 0,
  "metadata": {
    "colab": {
      "name": "Curso em Vídeo Mundo 2.ipynb",
      "provenance": [],
      "collapsed_sections": [],
      "authorship_tag": "ABX9TyOQJxHvPI5ypUiO271VQWjV",
      "include_colab_link": true
    },
    "kernelspec": {
      "name": "python3",
      "display_name": "Python 3"
    }
  },
  "cells": [
    {
      "cell_type": "markdown",
      "metadata": {
        "id": "view-in-github",
        "colab_type": "text"
      },
      "source": [
        "<a href=\"https://colab.research.google.com/github/arianerfrancisco/Projetos-Colab/blob/main/Curso_em_V%C3%ADdeo_Mundo_2.ipynb\" target=\"_parent\"><img src=\"https://colab.research.google.com/assets/colab-badge.svg\" alt=\"Open In Colab\"/></a>"
      ]
    },
    {
      "cell_type": "code",
      "metadata": {
        "id": "aSPKYlkv9NM1",
        "outputId": "7df42769-2610-47d9-9c9d-7501531a5ce5",
        "colab": {
          "base_uri": "https://localhost:8080/",
          "height": 102
        }
      },
      "source": [
        "'''Escreva um programa para aprovar o empréstimo bancário para a compra de uma casa. \n",
        "Pergunte o valor da casa, o salário do comprador e em quantos anos ele vai pagar. \n",
        "A prestação mensal não pode exceder 30% do salário ou então o empréstimo será negado.'''\n",
        "valor = float (input ('Qual o valor da casa?'))\n",
        "salario = float (input ('Qual seu salário?'))\n",
        "anos = float (input ('Em quantos anos deseja pagar?'))\n",
        "prestacao = valor/(anos*12)\n",
        "print('Sua prestação será de {:.2f} reais'.format(prestacao))\n",
        "if prestacao <= salario*0.3:\n",
        "  print('Ótimo, seu empréstimo foi aprovado!')\n",
        "else:\n",
        "  print('Infelizmente seu empréstimo não foi aprovado')"
      ],
      "execution_count": null,
      "outputs": [
        {
          "output_type": "stream",
          "text": [
            "Qual o valor da casa?200000\n",
            "Qual seu salário?2000\n",
            "Em quantos anos deseja pagar?30\n",
            "Sua prestação será de 555.56 reais\n",
            "Ótimo seu empréstimo foi aprovado!\n"
          ],
          "name": "stdout"
        }
      ]
    },
    {
      "cell_type": "code",
      "metadata": {
        "id": "f2ago7aOV59d",
        "outputId": "bfae9bd6-00b9-45c9-83d6-bde8ce89a817",
        "colab": {
          "base_uri": "https://localhost:8080/",
          "height": 68
        }
      },
      "source": [
        "'''Escreva um programa em Python que leia um número inteiro qualquer e peça para o usuário escolher qual será a base de conversão: \n",
        "1 para binário, 2 para octal e 3 para hexadecimal.'''\n",
        "num = int (input ('Favor informe um número inteiro:'))\n",
        "conversao = int (input ('qual será a base de conversão: 1 para binário, 2 para octal e 3 para hexadecimal'))\n",
        "# [2:] > para suprimir a resposta que aparece 0o352(octal)\n",
        "if conversao == 1:\n",
        "  print(bin(num)[2:])\n",
        "elif conversao == 2:\n",
        "  print(oct(num)[2:])\n",
        "elif conversao == 2:\n",
        "  print(hex(num)[2:])\n",
        "else:\n",
        "  print ('Opção Inválida: Tente novamente')"
      ],
      "execution_count": null,
      "outputs": [
        {
          "output_type": "stream",
          "text": [
            "Favor informe um número inteiro:93\n",
            "qual será a base de conversão: 1 para binário, 2 para octal e 3 para hexadecimal1\n",
            "1011101\n"
          ],
          "name": "stdout"
        }
      ]
    },
    {
      "cell_type": "code",
      "metadata": {
        "id": "cDyeZ20YV6fJ",
        "outputId": "2a9e0015-d11e-43ee-b7d5-e5162473746f",
        "colab": {
          "base_uri": "https://localhost:8080/",
          "height": 68
        }
      },
      "source": [
        "'''Escreva um programa que leia dois números inteiros e compare-os. mostrando na tela uma mensagem:  /// –  O primeiro valor é maior  // – O segundo valor é maior \n",
        "//– Não existe valor maior, os dois são iguais'''\n",
        "num1 = int (input ('Favor informe o primeiro número inteiro:'))\n",
        "num2 = int (input ('Favor informe o segundo número inteiro:'))\n",
        "if num1 > num2:\n",
        "  print('O primeiro valor é maior')\n",
        "elif num2 > num1:\n",
        "  print('O segundo valor é maior')\n",
        "else:\n",
        "  print('Não existe valor maior, os dois são iguais!')"
      ],
      "execution_count": null,
      "outputs": [
        {
          "output_type": "stream",
          "text": [
            " Favor informe o primeiro número inteiro:2\n",
            " Favor informe o segundo número inteiro:2\n",
            "Não existe valor maior, os dois são iguais!\n"
          ],
          "name": "stdout"
        }
      ]
    },
    {
      "cell_type": "code",
      "metadata": {
        "id": "aBDPn74oV606",
        "outputId": "1ed1cde9-c051-4d30-a508-0e3186aee837",
        "colab": {
          "base_uri": "https://localhost:8080/",
          "height": 50
        }
      },
      "source": [
        "'''Faça um programa que leia o ano de nascimento de um jovem e informe, de acordo com a sua idade, se ele ainda vai se alistar ao serviço militar, se é a hora exata de se alistar\n",
        "ou se já passou do tempo do alistamento. Seu programa também deverá mostrar o tempo que falta ou que passou do prazo.'''\n",
        "from datetime import date \n",
        "ano = int (input ('Favor informe o ano do seu nascimento:'))\n",
        "atual = date.today().year\n",
        "idade1 = atual - ano\n",
        "if idade1 < 18:\n",
        "  print('Você ainda irá se alistar. Faltam {} anos' .format(18 - idade1))\n",
        "elif idade1 > 18:\n",
        "  print('Você passou do prazo de alistamento: {} anos'.format(idade1-18))\n",
        "elif idade1 == 18:\n",
        "  print('Você já tem a idade para se alistar')"
      ],
      "execution_count": null,
      "outputs": [
        {
          "output_type": "stream",
          "text": [
            "Favor informe o ano do seu nascimento:1990\n",
            "Você passou do prazo de alistamento: 12 anos\n"
          ],
          "name": "stdout"
        }
      ]
    },
    {
      "cell_type": "code",
      "metadata": {
        "id": "gU6e5EA1V7Ba",
        "outputId": "7dfb8420-b093-47bc-ccb9-5bbcc85f45cf",
        "colab": {
          "base_uri": "https://localhost:8080/",
          "height": 67
        }
      },
      "source": [
        "'''Crie um programa que leia duas notas de um aluno e calcule sua média, mostrando uma mensagem no final, de acordo com a média atingida:\n",
        "– Média abaixo de 5.0: REPROVADO\n",
        "– Média entre 5.0 e 6.9: RECUPERAÇÃO\n",
        "– Média 7.0 ou superior: APROVADO'''\n",
        "nota1 = float (input('Favor informe sua primeira nota:'))\n",
        "nota2 = float (input('Favor informe sua segunda nota:'))\n",
        "media = (nota1 + nota2 )/2\n",
        "if media >= 7:\n",
        "  print('APROVADO')\n",
        "elif 5 <= media <= 6.9:\n",
        "  print('RECUPERAÇÃO')  \n",
        "else:\n",
        "  print('REPROVADO')"
      ],
      "execution_count": null,
      "outputs": [
        {
          "output_type": "stream",
          "text": [
            "Favor informe sua primeira nota:6\n",
            "Favor informe sua segunda nota:6\n",
            "RECUPERAÇÃO\n"
          ],
          "name": "stdout"
        }
      ]
    },
    {
      "cell_type": "code",
      "metadata": {
        "id": "nAxkxvcbV7lR",
        "outputId": "fa53f366-0d20-4edc-a60c-e228da14ed10",
        "colab": {
          "base_uri": "https://localhost:8080/",
          "height": 50
        }
      },
      "source": [
        "'''A Confederação Nacional de Natação precisa de um programa que leia o ano de nascimento de um atleta e mostre sua categoria, de acordo com a idade:\n",
        "– Até 9 anos: MIRIM\n",
        "– Até 14 anos: INFANTIL\n",
        "– Até 19 anos: JÚNIOR\n",
        "– Até 25 anos: SÊNIOR\n",
        "– Acima de 25 anos: MASTER'''\n",
        "ano = int (input('Favor informe o ano de seu nascimento:'))\n",
        "idade = date.today().year - ano\n",
        "if idade <= 9:\n",
        "  print('MIRIM')\n",
        "elif idade <= 14:\n",
        "  print('INFANTIL')\n",
        "elif idade <= 19:\n",
        "  print('JÚNIOR')\n",
        "elif idade <= 25:\n",
        "  print('SÊNIOR')\n",
        "else:\n",
        "  print('MASTER')"
      ],
      "execution_count": null,
      "outputs": [
        {
          "output_type": "stream",
          "text": [
            "Favor informe o ano de seu nascimento:1995\n",
            "SÊNIOR\n"
          ],
          "name": "stdout"
        }
      ]
    },
    {
      "cell_type": "code",
      "metadata": {
        "id": "jVEZZqtJV7w-"
      },
      "source": [
        "'''efaça o DESAFIO 35 dos triângulos, acrescentando o recurso de mostrar que tipo de triângulo será formado:\n",
        "– EQUILÁTERO: todos os lados iguais\n",
        "– ISÓSCELES: dois lados iguais, um diferente\n",
        "– ESCALENO: todos os lados diferentes '''\n",
        "r1 = float (input('Informe o primeiro segmento'))\n",
        "r2 = float (input('Informe o segundo segmento'))\n",
        "r3 = float (input('Informe o terceiro segmento'))\n",
        "if r1 < (r2 + r3) and r2 < (r1 + r3) and r3 < (r2 + r1):\n",
        "  print('Os segmentos formam um triângulo')\n",
        "  if r1 == r2 == r3:\n",
        "    print('EQUILÁTERO')\n",
        "  elif r1 != r2 != r3:\n",
        "    print('ESCALENO')\n",
        "  else:\n",
        "    print('ISÓSCELES') \n",
        "else:\n",
        "  print('Os segmentos não formam um triângulo')"
      ],
      "execution_count": null,
      "outputs": []
    },
    {
      "cell_type": "code",
      "metadata": {
        "id": "eXvPEl4LeaHd",
        "outputId": "ab8c27e4-2d36-4fb7-92e9-d982117505b7",
        "colab": {
          "base_uri": "https://localhost:8080/",
          "height": 84
        }
      },
      "source": [
        "'''Desenvolva uma lógica que leia o peso e a altura de uma pessoa, calcule seu Índice de Massa Corporal (IMC) e mostre seu status, de acordo com a tabela abaixo:\n",
        "– IMC abaixo de 18,5: Abaixo do Peso\n",
        "– Entre 18,5 e 25: Peso Ideal\n",
        "– 25 até 30: Sobrepeso\n",
        "– 30 até 40: Obesidade\n",
        "– Acima de 40: Obesidade Mórbida'''\n",
        "import math\n",
        "peso = float (input('Informe seu peso'))\n",
        "altura = float (input('Informe sua altura'))\n",
        "imc = peso/math.pow(altura,2)\n",
        "print('Seu imc é: {:.2f}'.format(imc))\n",
        "if imc < 18.5:\n",
        "  print('Abaixo do peso')\n",
        "elif 18.5 <= imc <= 25:\n",
        "  print('Peso ideal')\n",
        "elif 25 < imc <= 30:\n",
        "  print('Sobrepeso')\n",
        "elif 30 < imc <= 40:\n",
        "  print('Obesidade')\n",
        "else:\n",
        "  print('Obesidade Mórbida')"
      ],
      "execution_count": null,
      "outputs": [
        {
          "output_type": "stream",
          "text": [
            "Informe seu peso45\n",
            "Informe sua altura1.80\n",
            "Seu imc é: 13.89\n",
            "Abaixo do peso\n"
          ],
          "name": "stdout"
        }
      ]
    },
    {
      "cell_type": "code",
      "metadata": {
        "id": "U64y1FJIeajS",
        "outputId": "e1497919-644f-4611-9d84-c6f02406f024",
        "colab": {
          "base_uri": "https://localhost:8080/",
          "height": 134
        }
      },
      "source": [
        "'''Elabore um programa que calcule o valor a ser pago por um produto, considerando o seu preço normal e condição de pagamento:\n",
        "– à vista dinheiro/cheque: 10% de desconto\n",
        "– à vista no cartão: 5% de desconto\n",
        "– em até 2x no cartão: preço formal \n",
        "– 3x ou mais no cartão: 20% de juros'''\n",
        "preco = float (input('Qual o preço da compra?'))\n",
        "forma = int (input(''' Qual a forma de pagamento?\n",
        "        [1]- à vista dinheiro/cheque: 10% de desconto;\n",
        "        [2]- à vista no cartão: 5% de desconto;\n",
        "        [3]- em até 2x no cartão: preço formal;\n",
        "        [4]- 3x ou mais no cartão: 20% de juros'''))\n",
        "if forma == 1:\n",
        "  print (\" Por pagar a vista, você receberá 10% de desconto. Preço final: {:.2f}\" .format(preco-preco*0.1))\n",
        "elif forma == 2:\n",
        "  print (\" Por pagar a vista no cartão, você receberá 5% de desconto. Preço final: {:.2f}\" .format(preco-preco*0.05))\n",
        "elif forma == 3:\n",
        "  print (\" Em até 2x no cartão. Você pagará duas parcelas de {:.2f} reais\" .format(preco/2)) \n",
        "else:\n",
        "  print (\" Em até 3x ou mais no cartão. Preço final:{:.2f}\" .format(preco*1.2))"
      ],
      "execution_count": null,
      "outputs": [
        {
          "output_type": "stream",
          "text": [
            "Qual o preço da compra?1000\n",
            " Qual a forma de pagamento?\n",
            "        [1]- à vista dinheiro/cheque: 10% de desconto;\n",
            "        [2]- à vista no cartão: 5% de desconto;\n",
            "        [3]- em até 2x no cartão: preço formal;\n",
            "        [4]- 3x ou mais no cartão: 20% de juros4\n",
            " Em até 3x ou mais no cartão. Preço final:1200.00\n"
          ],
          "name": "stdout"
        }
      ]
    },
    {
      "cell_type": "code",
      "metadata": {
        "id": "RVGdFVT6eatu",
        "outputId": "61abe2c8-ec3c-4f09-a6c7-637ab65a8295",
        "colab": {
          "base_uri": "https://localhost:8080/",
          "height": 252
        }
      },
      "source": [
        " #Crie um programa que faça o computador jogar Jokenpô com você.\n",
        "from random import randint\n",
        "from time import sleep\n",
        "itens = ('Pedra', 'Tesoura', 'Papel')\n",
        "jogador = int (input('''++++++++++++++++++++++++++++++++\n",
        "Suas opções:\n",
        "[0]PEDRA \n",
        "[1]TESOURA\n",
        "[2]PAPEL\n",
        "+++++++++++++++++++++++++++++++++\n",
        "Qual sua jogada?'''))\n",
        "print('JO...')\n",
        "sleep(2)\n",
        "print('KEN...')\n",
        "sleep(2)\n",
        "print('PÔ...')\n",
        "sleep(2)\n",
        "computador = randint(0,2)\n",
        "print('Computador jogou:{}'.format(itens[computador]))\n",
        "print('Jogador jogou:{}'.format(itens[jogador]))\n",
        "if computador == jogador:\n",
        "  print('EMPATE!!!!!')\n",
        "elif computador == 1 and jogador == 2:\n",
        "  print('COMPUTADOR VENCEU!!!!!!')\n",
        "elif computador == 2 and jogador == 3:\n",
        "  print('COMPUTADOR VENCEU!!!!!!')\n",
        "elif computador == 3 and jogador == 1:\n",
        "  print('COMPUTADOR VENCEU!!!!!!')\n",
        "elif computador == 2 and jogador == 1:\n",
        "  print('JOGADOR VENCEU!!!!!!')\n",
        "elif computador == 3 and jogador == 2:\n",
        "  print('JOGADOR VENCEU!!!!!!')\n",
        "elif computador == 1 and jogador == 3:\n",
        "  print('JOGADOR VENCEU!!!!!!')\n",
        "print('Fim de jogo!')\n"
      ],
      "execution_count": null,
      "outputs": [
        {
          "output_type": "stream",
          "text": [
            "++++++++++++++++++++++++++++++++\n",
            "Suas opções:\n",
            "[1]PEDRA \n",
            "[2]TESOURA\n",
            "[3]PAPEL\n",
            "+++++++++++++++++++++++++++++++++\n",
            "Qual sua jogada?2\n",
            "JO...\n",
            "KEN...\n",
            "PÔ...\n",
            "Computador jogou:Tesoura\n",
            "Jogador jogou:Papel\n",
            "COMPUTADOR VENCEU!!!!!!\n",
            "Fim de jogo!\n"
          ],
          "name": "stdout"
        }
      ]
    },
    {
      "cell_type": "code",
      "metadata": {
        "id": "t2mvko1pwrEA",
        "outputId": "a8d41883-6bc5-4a65-aeed-99b8f0652ed7",
        "colab": {
          "base_uri": "https://localhost:8080/",
          "height": 101
        }
      },
      "source": [
        "for c in range(0, 4):\n",
        "  print(c)\n",
        "\n",
        "print('Acabou')"
      ],
      "execution_count": null,
      "outputs": [
        {
          "output_type": "stream",
          "text": [
            "0\n",
            "1\n",
            "2\n",
            "3\n",
            "Acabou\n"
          ],
          "name": "stdout"
        }
      ]
    },
    {
      "cell_type": "code",
      "metadata": {
        "id": "9-MNH5H7wrWW"
      },
      "source": [
        "#Faça um programa que mostre na tela uma contagem regressiva para o estouro de fogos de artifício, indo de 10 até 0, com uma pausa de 1 segundo entre eles."
      ],
      "execution_count": null,
      "outputs": []
    },
    {
      "cell_type": "code",
      "metadata": {
        "id": "D_Qm77Eawriv",
        "outputId": "c58e344a-bd13-4a0c-c984-622035cb38da",
        "colab": {
          "base_uri": "https://localhost:8080/",
          "height": 221
        }
      },
      "source": [
        "from time import sleep\n",
        "for c in  range(10, -1, -1):\n",
        "  print(c)\n",
        "  sleep(0.5)\n",
        "print('Acabou')"
      ],
      "execution_count": null,
      "outputs": [
        {
          "output_type": "stream",
          "text": [
            "10\n",
            "9\n",
            "8\n",
            "7\n",
            "6\n",
            "5\n",
            "4\n",
            "3\n",
            "2\n",
            "1\n",
            "0\n",
            "Acabou\n"
          ],
          "name": "stdout"
        }
      ]
    },
    {
      "cell_type": "code",
      "metadata": {
        "id": "81ZC_-Q0wrug",
        "outputId": "14cbe3c9-cf70-4d15-e699-de6fae365986",
        "colab": {
          "base_uri": "https://localhost:8080/",
          "height": 34
        }
      },
      "source": [
        "#Crie um programa que mostre na tela todos os números pares que estão no intervalo entre 1 e 50.\n",
        "for c in range(1,51):\n",
        "  if c % 2 == 0:\n",
        "    print(c, end=' ')\n",
        "print('Acabou')"
      ],
      "execution_count": null,
      "outputs": [
        {
          "output_type": "stream",
          "text": [
            "2 4 6 8 10 12 14 16 18 20 22 24 26 28 30 32 34 36 38 40 42 44 46 48 50 "
          ],
          "name": "stdout"
        }
      ]
    },
    {
      "cell_type": "code",
      "metadata": {
        "id": "UTeFnVkX394S",
        "outputId": "bb930199-2a50-43a3-8ca3-8245542542b5",
        "colab": {
          "base_uri": "https://localhost:8080/",
          "height": 34
        }
      },
      "source": [
        "#Crie um programa que mostre na tela todos os números pares que estão no intervalo entre 1 e 50.\n",
        "for c in range(2,51,2):\n",
        "    print(c, end=' ')\n",
        "print('Acabou')"
      ],
      "execution_count": null,
      "outputs": [
        {
          "output_type": "stream",
          "text": [
            "2 4 6 8 10 12 14 16 18 20 22 24 26 28 30 32 34 36 38 40 42 44 46 48 50 Acabou\n"
          ],
          "name": "stdout"
        }
      ]
    },
    {
      "cell_type": "code",
      "metadata": {
        "id": "l8V4PdCW4J6f",
        "outputId": "d737427b-5295-4a96-e0e6-71f515ade6dc",
        "colab": {
          "base_uri": "https://localhost:8080/",
          "height": 34
        }
      },
      "source": [
        "#Faça um programa que calcule a soma entre todos os números que são múltiplos de três e que se encontram no intervalo de 1 até 500.\n",
        "soma = 0\n",
        "cont = 0\n",
        "for c in range(1,500):\n",
        "  if c % 3 == 0:\n",
        "    cont = cont + 1\n",
        "    soma = soma + c\n",
        "print('A soma dos {} múltiplos de 3 é {}'.format(cont,soma))"
      ],
      "execution_count": null,
      "outputs": [
        {
          "output_type": "stream",
          "text": [
            "A soma dos 166 múltiplos de 3 é 41583\n"
          ],
          "name": "stdout"
        }
      ]
    },
    {
      "cell_type": "code",
      "metadata": {
        "id": "CkKIaw8nB_9t",
        "outputId": "1266fa4f-f067-4e6e-cfc0-3d898c3c6bc1",
        "colab": {
          "base_uri": "https://localhost:8080/",
          "height": 235
        }
      },
      "source": [
        " #Refaça o DESAFIO 9, mostrando a tabuada de um número que o usuário escolher, só que agora utilizando um laço for.\n",
        "num = int (input('Escolha um número para sua tabuada'))\n",
        "print('TABUADA:{}' .format(num))\n",
        "for c in range(1,11):\n",
        "  print('{} X {}={}'.format(num,c,num*c))\n",
        "print('FIM')\n"
      ],
      "execution_count": null,
      "outputs": [
        {
          "output_type": "stream",
          "text": [
            "Escolha um número para sua tabuada7\n",
            "TABUADA:7\n",
            "7 X 1=7\n",
            "7 X 2=14\n",
            "7 X 3=21\n",
            "7 X 4=28\n",
            "7 X 5=35\n",
            "7 X 6=42\n",
            "7 X 7=49\n",
            "7 X 8=56\n",
            "7 X 9=63\n",
            "7 X 10=70\n",
            "FIM\n"
          ],
          "name": "stdout"
        }
      ]
    },
    {
      "cell_type": "code",
      "metadata": {
        "id": "6_c9cPfTtX2-",
        "outputId": "af4874d8-9ada-4463-d6eb-16003ca38e1d",
        "colab": {
          "base_uri": "https://localhost:8080/",
          "height": 134
        }
      },
      "source": [
        "#Desenvolva um programa que leia seis números inteiros e mostre a soma apenas daqueles que forem pares. Se o valor digitado for ímpar, desconsidere-o.\n",
        "soma = 0\n",
        "for i in range(1,7):\n",
        "  num = int (input('Informe um número inteiro'))\n",
        "  if num % 2 == 0:\n",
        "    soma = soma + num\n",
        "print(soma)\n"
      ],
      "execution_count": null,
      "outputs": [
        {
          "output_type": "stream",
          "text": [
            "Informe um número inteiro2\n",
            "Informe um número inteiro3\n",
            "Informe um número inteiro2\n",
            "Informe um número inteiro3\n",
            "Informe um número inteiro3\n",
            "Informe um número inteiro3\n",
            "4\n"
          ],
          "name": "stdout"
        }
      ]
    },
    {
      "cell_type": "code",
      "metadata": {
        "id": "HxeELxQitYQ6",
        "outputId": "7cb98936-7976-40f7-dd41-e077188fa511",
        "colab": {
          "base_uri": "https://localhost:8080/",
          "height": 68
        }
      },
      "source": [
        "#Desenvolva um programa que leia o primeiro termo e a razão de uma PA. No final, mostre os 10 primeiros termos dessa progressão.\n",
        "num = int (input ( 'Informe o primeiro termo da progressão aritmética:'))\n",
        "r = int (input ( 'Informe a razão da progressão aritmética:'))\n",
        "for i in range (1,11):\n",
        "  i = num + (i - 1)*r\n",
        "  print ('{}' .format(i), end=' ')"
      ],
      "execution_count": null,
      "outputs": [
        {
          "output_type": "stream",
          "text": [
            "Informe o primeiro termo da progressão aritmética:15\n",
            "Informe a razão da progressão aritmética:10\n",
            "15 25 35 45 55 65 75 85 95 105 "
          ],
          "name": "stdout"
        }
      ]
    },
    {
      "cell_type": "code",
      "metadata": {
        "id": "33R8TkR6KVmZ",
        "outputId": "e75e8788-3399-431f-bad4-96fa33d6a4c3",
        "colab": {
          "base_uri": "https://localhost:8080/",
          "height": 51
        }
      },
      "source": [
        "#Faça um programa que leia um número inteiro e diga se ele é ou não um número primo.\n",
        "num = int (input('Informe um número para verificação'))\n",
        "if num == 2 or num == 3 or num == 5 or num == 7:\n",
        "  print('É um número primo')\n",
        "elif num%2!=0 and num%3!=0 and num%5!=0 and num%7!=0 and num%11!=0:\n",
        "  print('É um número primo')\n",
        "else:\n",
        "  print('Não é um número primo')  "
      ],
      "execution_count": null,
      "outputs": [
        {
          "output_type": "stream",
          "text": [
            " Informe um número para verificação100\n",
            "Não é um número primo\n"
          ],
          "name": "stdout"
        }
      ]
    },
    {
      "cell_type": "code",
      "metadata": {
        "id": "VRlkJNkINZN9",
        "outputId": "260a2e97-9983-4dff-efdc-9249707e782d",
        "colab": {
          "base_uri": "https://localhost:8080/",
          "height": 105
        }
      },
      "source": [
        "#Faça um programa que leia um número inteiro e diga se ele é ou não um número primo.\n",
        "# O númrero primo é divisivel apenas por ele mesmo\n",
        "num = int (input ('Informe um número inteiro:'))\n",
        "tot = 0\n",
        "for c in range(1, num+1):\n",
        "  if num % c == 0:\n",
        "    tot += 1\n",
        "    print('\\033[33m', end=' ')\n",
        "  else:\n",
        "    print('\\033[31m', end=' ')\n",
        "  print('{}'.format(c), end =' ')\n",
        "print('\\n\\033[32mO número {} foi divisível {} vezes' .format(num,tot))\n",
        "if tot ==2: \n",
        "  print('Ele é primo')\n",
        "else:\n",
        "  print('Ele não é primo')"
      ],
      "execution_count": null,
      "outputs": [
        {
          "output_type": "stream",
          "text": [
            "Informe um número inteiro:52\n",
            "\u001b[33m 1 \u001b[33m 2 \u001b[31m 3 \u001b[33m 4 \u001b[31m 5 \u001b[31m 6 \u001b[31m 7 \u001b[31m 8 \u001b[31m 9 \u001b[31m 10 \u001b[31m 11 \u001b[31m 12 \u001b[33m 13 \u001b[31m 14 \u001b[31m 15 \u001b[31m 16 \u001b[31m 17 \u001b[31m 18 \u001b[31m 19 \u001b[31m 20 \u001b[31m 21 \u001b[31m 22 \u001b[31m 23 \u001b[31m 24 \u001b[31m 25 \u001b[33m 26 \u001b[31m 27 \u001b[31m 28 \u001b[31m 29 \u001b[31m 30 \u001b[31m 31 \u001b[31m 32 \u001b[31m 33 \u001b[31m 34 \u001b[31m 35 \u001b[31m 36 \u001b[31m 37 \u001b[31m 38 \u001b[31m 39 \u001b[31m 40 \u001b[31m 41 \u001b[31m 42 \u001b[31m 43 \u001b[31m 44 \u001b[31m 45 \u001b[31m 46 \u001b[31m 47 \u001b[31m 48 \u001b[31m 49 \u001b[31m 50 \u001b[31m 51 \u001b[33m 52 \n",
            "\u001b[32mO número 52 foi divisível 6 vezes\n",
            "Ele não é primo\n"
          ],
          "name": "stdout"
        }
      ]
    },
    {
      "cell_type": "code",
      "metadata": {
        "id": "lcYGQhqsNZsv",
        "outputId": "d6f811da-15e0-4d88-81a4-84760d38fe7e",
        "colab": {
          "base_uri": "https://localhost:8080/",
          "height": 67
        }
      },
      "source": [
        "#Crie um programa que leia uma frase qualquer e diga se ela é um palíndromo, desconsiderando os espaços. Exemplos de palíndromos:\n",
        "frase = str ( input ('Favor informe uma frase:')).replace(\" \",\"\")\n",
        "frase1 = frase[::-1]\n",
        "print(frase,frase1)\n",
        "if frase1 == frase:\n",
        "  print('A frase é um palíndromo')\n",
        "else:\n",
        "  print('A frase não é um palíndromo')"
      ],
      "execution_count": null,
      "outputs": [
        {
          "output_type": "stream",
          "text": [
            "Favor informe uma frase:A TORRE DA DERROTA\n",
            "ATORREDADERROTA ATORREDADERROTA\n",
            "A frase é um palíndromo\n"
          ],
          "name": "stdout"
        }
      ]
    },
    {
      "cell_type": "code",
      "metadata": {
        "id": "aQmue0N6NZ_p"
      },
      "source": [
        "#Crie um programa que leia o ano de nascimento de sete pessoas. No final, mostre quantas pessoas ainda não atingiram a maioridade e quantas já são maiores.\n",
        "from datetime import date\n",
        "maior = 0\n",
        "menor = 0\n",
        "for c in range(1,8):\n",
        "  ano= int (input('Em que ano a {}° nasceu?'.format(c)))\n",
        "  comp = date.today().year - ano\n",
        "  if comp >= 18:\n",
        "    maior += 1\n",
        "  else:\n",
        "    menor += 1\n",
        "print ('{} não atingiram a maioridade e {} atingiram' .format(menor,maior))"
      ],
      "execution_count": null,
      "outputs": []
    },
    {
      "cell_type": "code",
      "metadata": {
        "id": "lcwGhOcjNaOX"
      },
      "source": [
        "# Faça um programa que leia o peso de cinco pessoas. No final, mostre qual foi o maior e o menor peso lidos.\n",
        "lista = []\n",
        "for c in range(1,6):\n",
        "  peso = float (input('{} = Favor informe seu peso:'.format(c)))\n",
        "  lista.append(peso)\n",
        "print('O maior peso informado foi {} quilos e o menor {} quilos'. format(max(lista),min(lista)))"
      ],
      "execution_count": null,
      "outputs": []
    },
    {
      "cell_type": "code",
      "metadata": {
        "id": "K6cHb_PPNadk"
      },
      "source": [
        "# Faça um programa que leia o peso de cinco pessoas. No final, mostre qual foi o maior e o menor peso lidos.\n",
        "menor = 0\n",
        "maior = 0\n",
        "for c in range (1,6):\n",
        "  peso = (float (input('Informe o peso')))\n",
        "  if c == 1:\n",
        "    maior = c\n",
        "    menor = c\n",
        "  else:\n",
        "      if peso > maior:\n",
        "        maior = peso\n",
        "      if peso < menor:\n",
        "        menor = peso\n",
        "print('O maior peso informado foi {}Kg e o menor {} Kg' .format(maior, menor))"
      ],
      "execution_count": null,
      "outputs": []
    },
    {
      "cell_type": "code",
      "metadata": {
        "id": "4TgyS2xkNasc"
      },
      "source": [
        "'''Desenvolva um programa que leia o nome, idade e sexo de 4 pessoas. \n",
        "No final do programa, mostre: a média de idade do grupo, qual é o nome do homem mais velho e quantas mulheres têm menos de 20 anos.'''\n",
        "idade_homem = 0\n",
        "list_idade = []\n",
        "cont = 0\n",
        "nomevelho = ''\n",
        "for c in range(1,5):\n",
        "  nome = str (input('Informe seu nome:'))\n",
        "  idade = int (input('Informe sua idade:'))\n",
        "  list_idade.append(idade)\n",
        "  sexo = str (input('F - Feminino e M - Masculino')).upper()\n",
        "  if idade > idade_homem and sexo == 'M':\n",
        "      idade_homem = idade\n",
        "      nomevelho = nome\n",
        "  if idade < 20 and sexo == 'F':\n",
        "      cont += 1   \n",
        "print('A média de idade do grupo é {} anos' .format(sum(list_idade)/len(list_idade)))\n",
        "print('O homem mais velho tem {} anos e se chama:{}' .format(idade_homem,nomevelho))\n",
        "print('O grupo tem {} mulheres com menos de 20 anos'. format(cont))"
      ],
      "execution_count": null,
      "outputs": []
    },
    {
      "cell_type": "code",
      "metadata": {
        "id": "aoO_XBdck7K4",
        "outputId": "02860e0d-658c-4db9-8c32-4118f0d96acc",
        "colab": {
          "base_uri": "https://localhost:8080/",
          "height": 101
        }
      },
      "source": [
        "#Faça um programa que leia o sexo de uma pessoa, mas só aceite os valores ‘M’ ou ‘F’. Caso esteja errado, peça a digitação novamente até ter um valor correto.\n",
        "sexo = str(input('Informe seu sexo: F- Feminino e M- Masculino:')).strip().upper()[0]\n",
        "while sexo not in 'FM':\n",
        "  sexo =str(input('Dados inválidos! Informe seu sexo: F- Feminino e M- Masculino:')).strip().upper()[0]\n",
        "print('Sexo {} registrado com sucesso'.format(sexo))"
      ],
      "execution_count": null,
      "outputs": [
        {
          "output_type": "stream",
          "text": [
            "Informe seu sexo: F- Feminino e M- Masculino:g\n",
            "Informe seu sexo: F- Feminino e M- Masculino:g\n",
            "Informe seu sexo: F- Feminino e M- Masculino:g\n",
            "Informe seu sexo: F- Feminino e M- Masculino:f\n",
            "Sexo F registrado com sucesso\n"
          ],
          "name": "stdout"
        }
      ]
    },
    {
      "cell_type": "code",
      "metadata": {
        "id": "ZCJOmmXSceO7"
      },
      "source": [
        "'''Melhore o jogo do DESAFIO 28 onde o computador vai “pensar” em um número entre 0 e 10. \n",
        "Só que agora o jogador vai tentar adivinhar até acertar, mostrando no final quantos palpites foram necessários para vencer.'''\n",
        "from random import randint\n",
        "from time import sleep\n",
        "jogador = int (input('''++++++++++++++++++++++++++++++++\n",
        "Suas opções:\n",
        "[0]PEDRA \n",
        "[1]TESOURA\n",
        "[2]PAPEL\n",
        "+++++++++++++++++++++++++++++++++\n",
        "Qual sua jogada?'''))\n",
        "computador = randint(0,2)\n",
        "contador = 1\n",
        "while jogador != computador:\n",
        "  if jogador < computador:\n",
        "    print('Um pouco mais:')\n",
        "  else:\n",
        "    print('Um pouco menos')\n",
        "  jogador = int (input('Jogue novamente'))\n",
        "  contador += 1\n",
        "print('Fim de jogo! Jogador {} e computador {}'.format(jogador, computador))\n",
        "print('Foram {} tentativas'.format(contador))"
      ],
      "execution_count": null,
      "outputs": []
    },
    {
      "cell_type": "code",
      "metadata": {
        "id": "GlUznb-EpOSm"
      },
      "source": [
        "#Crie um programa que leia dois valores e mostre um menu na tela:\n",
        "num1 = int (input('Informe o primeiro número'))\n",
        "num2 = int (input('Informr o segundo número'))\n",
        "opcao = 0\n",
        "while opcao != 5:\n",
        "  print('''Qual operação deseja efetuar:\n",
        "  [ 1 ] somar\n",
        "  [ 2 ] multiplicar\n",
        "  [ 3 ] maior\n",
        "  [ 4 ] novos números\n",
        "  [ 5 ] sair do programa''')\n",
        "  opcao = int (input('Qual é a sua opção?'))\n",
        "  if opcao == 1:\n",
        "    soma = num1 + num2\n",
        "    print('A soma dos numeros {} e {} é: {}'.format(num1,num2,soma))\n",
        "  elif opcao == 2:\n",
        "    mult = num1 * num2\n",
        "    print('A multiplicação entre os números {} e {} é: {}'.format(num1,num2,mult))\n",
        "  elif opcao == 3:\n",
        "    if num1 > num2:\n",
        "      print('O número {} digitado foi maior que o outro {}'.format(num1,num2))\n",
        "    elif num1 == num2:\n",
        "      print('Os dois números digitados são iguais')\n",
        "    else:\n",
        "      print('O número {} digitado foi maior que o outro {}'.format(num2,num1))\n",
        "  elif opcao == 4:\n",
        "    num1 = int (input('Informe o primeiro número'))\n",
        "    num2 = int (input('Informr o segundo número'))\n",
        "  elif opcao >= 6:\n",
        "    print('Dados digitados incorretamente!')  \n",
        "print('Fim do programa, volte sempre!')"
      ],
      "execution_count": null,
      "outputs": []
    },
    {
      "cell_type": "code",
      "metadata": {
        "id": "8nzE7Jbh-D75",
        "outputId": "4076ac3f-516f-4221-a779-1e9496aeb6b3",
        "colab": {
          "base_uri": "https://localhost:8080/",
          "height": 50
        }
      },
      "source": [
        "#Faça um programa que leia um número qualquer e mostre o seu fatorial. Exemplo:\n",
        "num = int(input('Informe um número:'))\n",
        "c = num\n",
        "f = 1\n",
        "while c > 0:\n",
        "  print('{}'.format(c), end='')\n",
        "  print('x' if c > 1 else '=', end= ' ')\n",
        "  f *= c\n",
        "  c -= 1\n",
        "print('{}'.format(f))"
      ],
      "execution_count": null,
      "outputs": [
        {
          "output_type": "stream",
          "text": [
            "Informe um número:6\n",
            "6x 5x 4x 3x 2x 1= 720\n"
          ],
          "name": "stdout"
        }
      ]
    },
    {
      "cell_type": "code",
      "metadata": {
        "id": "FFwQtOJA-EZK",
        "outputId": "01b9a1d0-43f9-4734-fa1e-c30df8436f59",
        "colab": {
          "base_uri": "https://localhost:8080/",
          "height": 102
        }
      },
      "source": [
        "#lendo o primeiro termo e a razão de uma PA, mostrando os 10 primeiros termos da progressão usando a estrutura while.\n",
        "num = int( input('Informe o primeiro termo:'))\n",
        "r = int( input('Informe a razão:'))\n",
        "c = 1\n",
        "while c <= 10:\n",
        "  print('{} > '. format(num), end=' ')\n",
        "  num += r\n",
        "  c += 1\n",
        "print('FIM')"
      ],
      "execution_count": null,
      "outputs": [
        {
          "output_type": "stream",
          "text": [
            "Informe o primeiro termo:10\n",
            "Informe a razão:20\n",
            "GERADO DE PA\n",
            "==========\n",
            "10 >  30 >  50 >  70 >  90 >  110 >  130 >  150 >  170 >  190 >  FIM\n"
          ],
          "name": "stdout"
        }
      ]
    },
    {
      "cell_type": "code",
      "metadata": {
        "id": "eL05hyn46NRf"
      },
      "source": [
        "#Melhore o DESAFIO 61, perguntando para o usuário se ele quer mostrar mais alguns termos. O programa encerrará quando ele disser que quer mostrar 0 termos.\n",
        "num = int( input('Informe o primeiro termo:'))\n",
        "r = int( input('Informe a razão:'))\n",
        "c = 1\n",
        "print('GERADO DE PA')\n",
        "print('=' * 10)\n",
        "total = 0 # no ex anterior o contador havia se referenciado pelo 10, de acordo com o exercicio, porem agora nao tem como definir\n",
        "mais = 10 # inicializando a variavel\n",
        "while mais != 0:\n",
        "  total += mais ## assim esse total, será o que o usuario definir no mais, o segundo input\n",
        "  while c <= total:\n",
        "    print('{} > '. format(num), end=' ')\n",
        "    num += r\n",
        "    c += 1\n",
        "  print('PAUSA')\n",
        "  mais = int(input('Quantos termos você quer mostrar a mais?'))\n",
        "print('Progressão finalizada com {} termos mostrados' .format(total))"
      ],
      "execution_count": null,
      "outputs": []
    },
    {
      "cell_type": "code",
      "metadata": {
        "id": "WlCCR8nY0aKi",
        "outputId": "45a19f96-99f1-4fc5-ae41-e9fc374c6638",
        "colab": {
          "base_uri": "https://localhost:8080/",
          "height": 102
        }
      },
      "source": [
        "# Sequencia de fibonacci\n",
        "print('-'*30)\n",
        "print('Gerador de sequência de fibonacci')\n",
        "print('-'*30)\n",
        "n = int(input('Informe quantos termos deseja mostrar?'))\n",
        "t1 = 0\n",
        "t2 = 1\n",
        "c = 3\n",
        "print('{} > {}'.format(t1,t2), end='')\n",
        "while c <= n:\n",
        "  t3 = t1 + t2\n",
        "  print(' > {}'.format(t3), end='')\n",
        "  t1 = t2\n",
        "  t2 = t3\n",
        "  c += 1\n",
        "print(' > Fim')"
      ],
      "execution_count": null,
      "outputs": [
        {
          "output_type": "stream",
          "text": [
            "------------------------------\n",
            "Gerador de sequência de fibonacci\n",
            "------------------------------\n",
            "Informe quantos termos deseja mostrar?10\n",
            "0 > 1 > 1 > 2 > 3 > 5 > 8 > 13 > 21 > 34 > Fim\n"
          ],
          "name": "stdout"
        }
      ]
    },
    {
      "cell_type": "code",
      "metadata": {
        "id": "8TFpi5Ny8vVt",
        "outputId": "fa75b570-2666-49b1-adb8-a7970a22ce97",
        "colab": {
          "base_uri": "https://localhost:8080/",
          "height": 101
        }
      },
      "source": [
        "'''Crie um programa que leia vários números inteiros pelo teclado. \n",
        "O programa só vai parar quando o usuário digitar o valor 999, que é a condição de parada.\n",
        "No final, mostre quantos números foram digitados e qual foi a soma entre eles (desconsiderando o flag).'''\n",
        "c = -999\n",
        "n = 0\n",
        "total = -1\n",
        "while n != 999:\n",
        "  n = int(input('Digite um número '))\n",
        "  c += n\n",
        "  total += 1\n",
        "print('Você digitou {} números que totalizaram {}' .format(total,c))"
      ],
      "execution_count": null,
      "outputs": [
        {
          "output_type": "stream",
          "text": [
            "Digite um número 5\n",
            "Digite um número 8\n",
            "Digite um número 6\n",
            "Digite um número 999\n",
            "Você digitou 3 números que totalizaram 19\n"
          ],
          "name": "stdout"
        }
      ]
    },
    {
      "cell_type": "code",
      "metadata": {
        "id": "PHQNPT6iqvY4",
        "outputId": "0deec24a-7cc6-4823-9565-75106dc99ca2",
        "colab": {
          "base_uri": "https://localhost:8080/",
          "height": 134
        }
      },
      "source": [
        "''' Crie um programa que leia vários números inteiros pelo teclado. \n",
        " No final da execução, mostre a média entre todos os valores e qual foi o maior e o menor valores lidos.\n",
        "  O programa deve perguntar ao usuário se ele quer ou não continuar a digitar valores.'''\n",
        "n = 0\n",
        "opcao = 1\n",
        "lista = []\n",
        "while opcao != 0:\n",
        "  n = int ( input('Informe um número inteiro '))\n",
        "  lista.append(n)\n",
        "  opcao = float ( input('Se deseja parar: digite 0. Se quiser continuar: digite 1'))\n",
        "print('Fim!. A média entre os valores digitados foi: {:.2f} e o maior valor foi: {}'.format((sum(lista)/len(lista)),max(lista)))"
      ],
      "execution_count": null,
      "outputs": [
        {
          "output_type": "stream",
          "text": [
            "Informe um número inteiro 15\n",
            "Se deseja parar: digite 0. Se quiser continuar: digite 11\n",
            "Informe um número inteiro 10\n",
            "Se deseja parar: digite 0. Se quiser continuar: digite 11\n",
            "Informe um número inteiro 22\n",
            "Se deseja parar: digite 0. Se quiser continuar: digite 10\n",
            "Fim!. A média entre os valores digitados foi: 15.67 e o maior valor foi: 22\n"
          ],
          "name": "stdout"
        }
      ]
    },
    {
      "cell_type": "code",
      "metadata": {
        "id": "FPYuMHrGuIak",
        "outputId": "2ac16e98-3182-4e5d-e7af-2d194a50f95e",
        "colab": {
          "base_uri": "https://localhost:8080/",
          "height": 102
        }
      },
      "source": [
        "'''contador = 0\n",
        "while contador < 10:\n",
        "  contador += 1\n",
        "  print(contador,' ', end=' ')'''\n",
        "n = s = 0\n",
        "while True:\n",
        "  n = int(input('Insira um número'))\n",
        "  if n == 999:\n",
        "    break\n",
        "# inserindo o break nesse local, o algoritmo pula direto pro print\n",
        "  s += n\n",
        "#print('A soma dos valores digitados valem: {}' .format(s))\n",
        "print(f'A soma dos valores digitados valem: {s}') # Versão atualizada"
      ],
      "execution_count": null,
      "outputs": [
        {
          "output_type": "stream",
          "text": [
            "Insira um número10\n",
            "Insira um número10\n",
            "Insira um número10\n",
            "Insira um número999\n",
            "A soma dos valores digitados valem: 30\n"
          ],
          "name": "stdout"
        }
      ]
    },
    {
      "cell_type": "code",
      "metadata": {
        "id": "C56STVk-zAX5",
        "outputId": "bce574dc-2a90-4e80-aebe-5017f8479dc4",
        "colab": {
          "base_uri": "https://localhost:8080/",
          "height": 102
        }
      },
      "source": [
        "# fstrings\n",
        "nome = 'jose'\n",
        "idade = 33\n",
        "salario = 987.35\n",
        "print(f'O {nome:20} tem {idade} e ganha R$ {salario:.2f}')\n",
        "# :20 > insere 20 espaços apos o nome\n",
        "print(f'O {nome:^20} tem {idade} e ganha R$ {salario:.2f}')\n",
        "# :^20 > insere 20 espaços centralizados\n",
        "print(f'O {nome:-^20} tem {idade} e ganha R$ {salario:.2f}')\n",
        "# :-^20 > insere 20 espaços centralizados com traços\n",
        "print(f'O {nome:->20} tem {idade} e ganha R$ {salario:.2f}')\n",
        "# :->20 > insere 20 alinhando o nome jose na direita\n",
        "print(f'O {nome:-<20} tem {idade} e ganha R$ {salario:.2f}')\n",
        "# :-<20 > insere 20 alinhando o nome jose na esquerda"
      ],
      "execution_count": null,
      "outputs": [
        {
          "output_type": "stream",
          "text": [
            "O jose                 tem 33 e ganha R$ 987.35\n",
            "O         jose         tem 33 e ganha R$ 987.35\n",
            "O --------jose-------- tem 33 e ganha R$ 987.35\n",
            "O ----------------jose tem 33 e ganha R$ 987.35\n",
            "O jose---------------- tem 33 e ganha R$ 987.35\n"
          ],
          "name": "stdout"
        }
      ]
    },
    {
      "cell_type": "code",
      "metadata": {
        "id": "3qrg7gQj021H",
        "outputId": "1d0c9209-b388-40cb-a968-9c21b64dd666",
        "colab": {
          "base_uri": "https://localhost:8080/",
          "height": 102
        }
      },
      "source": [
        "'''Crie um programa que leia números inteiros pelo teclado. O programa só vai parar quando o usuário digitar o valor 999, que é a condição de parada. \n",
        "No final, mostre quantos números foram digitados e qual foi a soma entre elas (desconsiderando o flag).'''\n",
        "n = s = 0\n",
        "while True:\n",
        "  n = int(input('Digite um número inteiro: . Para parar digite 999'))\n",
        "  if n == 999:\n",
        "    break\n",
        "  s += n\n",
        "print(f'A soma dos números digitados é: {s}')"
      ],
      "execution_count": null,
      "outputs": [
        {
          "output_type": "stream",
          "text": [
            "Digite um número inteiro: 10\n",
            "Digite um número inteiro: 10\n",
            "Digite um número inteiro: 10\n",
            "Digite um número inteiro: 999\n",
            "A soma dos números digitados é: 30\n"
          ],
          "name": "stdout"
        }
      ]
    },
    {
      "cell_type": "code",
      "metadata": {
        "id": "XB_F8vEt2amY",
        "outputId": "14962d52-8b3d-4e83-9b30-44e5630351f0",
        "colab": {
          "base_uri": "https://localhost:8080/",
          "height": 238
        }
      },
      "source": [
        "'''Faça um programa que mostre a tabuada de vários números, um de cada vez, para cada valor digitado pelo usuário. \n",
        "O programa será interrompido quando o número solicitado for negativo.'''\n",
        "while True:\n",
        "  n = int (input('Quer ver a tabuada de qual valor: '))\n",
        "  if n < 0:\n",
        "    print('Programa de tabuada encerrado. Volte Sempre!')\n",
        "    break\n",
        "  for c in range(0,10):\n",
        "    c += 1\n",
        "    print(f'{n} X {c} = {c*n}')"
      ],
      "execution_count": null,
      "outputs": [
        {
          "output_type": "stream",
          "text": [
            "Quer ver a tabuada de qual valor: 10\n",
            "10 X 1 = 10\n",
            "10 X 2 = 20\n",
            "10 X 3 = 30\n",
            "10 X 4 = 40\n",
            "10 X 5 = 50\n",
            "10 X 6 = 60\n",
            "10 X 7 = 70\n",
            "10 X 8 = 80\n",
            "10 X 9 = 90\n",
            "10 X 10 = 100\n",
            "Quer ver a tabuada de qual valor: -9\n",
            "Programa de tabuada encerrado. Volte Sempre!\n"
          ],
          "name": "stdout"
        }
      ]
    },
    {
      "cell_type": "code",
      "metadata": {
        "id": "l34u0TdU78Um",
        "outputId": "a95322b7-e520-4f77-99b8-0a3456c8240b",
        "colab": {
          "base_uri": "https://localhost:8080/",
          "height": 170
        }
      },
      "source": [
        "'''Faça um programa que jogue par ou ímpar com o computador. \n",
        "O jogo só será interrompido quando o jogador perder, mostrando o total de vitórias consecutivas que ele conquistou no final do jogo.'''\n",
        "import random\n",
        "print('-'*30)\n",
        "print('JOGO DO PAR OU ÍMPAR')\n",
        "print('-'*30)\n",
        "vit_jog = 0\n",
        "vit_pc = 0\n",
        "while vit_pc == 0:\n",
        "  esc_jog = str (input('Faça sua jogada. Escolha: par ou impar: ')).upper().strip()\n",
        "  jogador = int (input('Escolha um número de 1 a 5: '))\n",
        "  pc = random.randint(1,5)\n",
        "  jogo = jogador + pc\n",
        "  print(f'A escolha da jogada foi {esc_jog}')\n",
        "  print(f'O jogador lançou o número: {jogador} e o computador:{pc}')\n",
        "  if (jogo%2 == 0 and esc_jog == 'PAR') or (jogo%2 != 0 and esc_jog == 'IMPAR'):\n",
        "    print('Você venceu')\n",
        "    vit_jog += 1\n",
        "  else:\n",
        "    vit_pc += 1\n",
        "    print('GAME OVER')\n",
        "print(f'Você venceu {vit_jog} vezes')"
      ],
      "execution_count": null,
      "outputs": [
        {
          "output_type": "stream",
          "text": [
            "------------------------------\n",
            "JOGO DO PAR OU ÍMPAR\n",
            "------------------------------\n",
            "Faça sua jogada. Escolha: par ou impar: par\n",
            "Escolha um número de 1 a 5: 2\n",
            "A escolha da jogada foi PAR\n",
            "O jogador lançou o número: 2 e o computador:3\n",
            "GAME OVER\n",
            "Você venceu 0 vezes\n"
          ],
          "name": "stdout"
        }
      ]
    },
    {
      "cell_type": "code",
      "metadata": {
        "id": "cupK7y_SK5LA"
      },
      "source": [
        "# metodo professor\n",
        "from random import randint\n",
        "v = 0\n",
        "while True:\n",
        "  jogador =  int(input('Diga um valor'))\n",
        "  computador =  randint(0,10)\n",
        "  total = jogador + computador\n",
        "  tipo = ' '\n",
        "  while tipo not in 'PI':\n",
        "    tipo = str(input('Par ou Ìmpar? [P/I] ')).strip().upper()\n",
        "  print(f'Você jogou {jogador} e computador {computador}. Total de {total}. ', end='')\n",
        "  print('DEU PAR' if total%2 == 0 else 'DEU ÍMPAR') \n",
        "  if tipo == 'P':\n",
        "    if total%2 == 0:\n",
        "      print('Você venceu!')\n",
        "      v += 1\n",
        "    else:\n",
        "      print('Você perdeu')\n",
        "      break\n",
        "  elif tipo == 'I':\n",
        "    if total%2 != 0:\n",
        "      print('Você venceu!')\n",
        "      v += 1\n",
        "    else:\n",
        "      print('Você perdeu')\n",
        "      break\n",
        "  print('Vamos jogar novamente')\n",
        "print(f'Você venceu: {v} vezes')"
      ],
      "execution_count": null,
      "outputs": []
    },
    {
      "cell_type": "code",
      "metadata": {
        "id": "ukXFpfVrPKDc",
        "outputId": "b22563d6-7049-4900-8e53-5f231fe42353",
        "colab": {
          "base_uri": "https://localhost:8080/",
          "height": 272
        }
      },
      "source": [
        "'''Crie um programa que leia a idade e o sexo de várias pessoas. A cada pessoa cadastrada, o programa deverá perguntar se o usuário quer ou não continuar. No final, mostre:\n",
        "A) quantas pessoas tem mais de 18 anos.\n",
        "B) quantos homens foram cadastrados.\n",
        "C) quantas mulheres tem menos de 20 anos.'''\n",
        "item_a = item_b = item_c = 0\n",
        "while True:\n",
        "  idade = int(input('Informe a idade: '))\n",
        "  sexo = ' '\n",
        "  while sexo not in 'FM':\n",
        "    sexo = str(input('Informe seu sexo: [F/M] ' )).upper().strip()[0]\n",
        "  opcao = ' '\n",
        "  while opcao not in 'SNsn':\n",
        "    opcao = str (input('Deseja continuar: [s/n] ')).upper().strip()[0]\n",
        "  if idade >= 18:\n",
        "    item_a += 1\n",
        "  if sexo == 'M':\n",
        "    item_b += 1\n",
        "  if sexo == 'F' and idade < 20:\n",
        "    item_c += 1\n",
        "  if opcao == 'N':\n",
        "    break\n",
        "print(f'Item A: {item_a} pessoas tem mais de 18 anos')\n",
        "print(f'Item B: {item_b} homens cadastrados')\n",
        "print(f'Item C: {item_c} mulheres com menos de 20 anos')"
      ],
      "execution_count": null,
      "outputs": [
        {
          "output_type": "stream",
          "text": [
            "Informe a idade: 15\n",
            "Informe seu sexo: [F/M]f\n",
            "Deseja continuar: [s/n]s\n",
            "Informe a idade: 10\n",
            "Informe seu sexo: [F/M]f\n",
            "Deseja continuar: [s/n]s\n",
            "Informe a idade: 52\n",
            "Informe seu sexo: [F/M]m\n",
            "Deseja continuar: [s/n]s\n",
            "Informe a idade: 10\n",
            "Informe seu sexo: [F/M]m\n",
            "Deseja continuar: [s/n]n\n",
            "Item A: 1 pessoas tem mais de 18 anos\n",
            "Item B: 2 homens cadastrados\n",
            "Item C: 2 mulheres com menos de 20 anos\n"
          ],
          "name": "stdout"
        }
      ]
    },
    {
      "cell_type": "code",
      "metadata": {
        "id": "bseP-pAHcYuh",
        "outputId": "2cc12adc-0c1d-420f-a7f1-926824b2ddf1",
        "colab": {
          "base_uri": "https://localhost:8080/",
          "height": 238
        }
      },
      "source": [
        "'''Crie um programa que leia o nome e o preço de vários produtos. O programa deverá perguntar se o usuário vai continuar ou não. No final, mostre:\n",
        "A) qual é o total gasto na compra.\n",
        "B) quantos produtos custam mais de R$1000.\n",
        "C) qual é o nome do produto mais barato.'''\n",
        "menor = total = caros = 0\n",
        "while True:\n",
        "  nome = str(input('Qual o nome do produto: '))\n",
        "  preco = int(input('Qual o preço do produto: '))\n",
        "  total += preco\n",
        "  if preco > 1000:\n",
        "    caros += 1\n",
        "  if preco < menor :\n",
        "    menor = preco\n",
        "    nome_menor = nome\n",
        "  opcao = ' '\n",
        "  while opcao not in 'SNsn':\n",
        "    opcao = str(input('Deseja parar: [S/N] ')).upper().strip()[0]\n",
        "  if opcao == 'S':\n",
        "    break\n",
        "print('Fim da execução...')\n",
        "print(f'O total gasto foi de {total} reais')\n",
        "print(f'{caros} produtos custam mais que R$1000,00 ')\n",
        "print(f'O produto mais barato se chama {nome_menor} e custa {menor} reais ')"
      ],
      "execution_count": null,
      "outputs": [
        {
          "output_type": "stream",
          "text": [
            "Qual o nome do produtoomo\n",
            "Qual o preço do produto10\n",
            "Deseja parar: [S/N] n\n",
            "Qual o nome do produtodetergente\n",
            "Qual o preço do produto5\n",
            "Deseja parar: [S/N] n\n",
            "Qual o nome do produtoarroz\n",
            "Qual o preço do produto15\n",
            "Deseja parar: [S/N] s\n",
            "Fim da execução\n",
            "O total gasto foi de 30 reais\n",
            "0 produtos custam mais que R$1000,00 \n",
            "O produto mais barato se chama detergente e custa 5 reais \n"
          ],
          "name": "stdout"
        }
      ]
    },
    {
      "cell_type": "code",
      "metadata": {
        "id": "AGjtpZnXgV9c",
        "outputId": "7bb4bcb5-a6cf-47f4-d9f6-7dda56fac0b3",
        "colab": {
          "base_uri": "https://localhost:8080/",
          "height": 102
        }
      },
      "source": [
        "#outra forma de validar o menor preço do produto sem apelar para declaracao de variavel menor como = 999\n",
        "cont = 0\n",
        "for c in range(1,5):\n",
        "  preco = int(input('Informe o preço do produto: R$'))\n",
        "  if cont == 1 or preco < menor:\n",
        "      menor = preco\n",
        "print(f'O menor preço é {menor} reais')"
      ],
      "execution_count": null,
      "outputs": [
        {
          "output_type": "stream",
          "text": [
            "Informe o preço do produto: R$1\n",
            "Informe o preço do produto: R$2\n",
            "Informe o preço do produto: R$8\n",
            "Informe o preço do produto: R$9\n",
            "O menor preço é 1 reais\n"
          ],
          "name": "stdout"
        }
      ]
    },
    {
      "cell_type": "code",
      "metadata": {
        "id": "T9nei1bih_KL"
      },
      "source": [
        " '''Crie um programa que simule o funcionamento de um caixa eletrônico.\n",
        "No início, pergunte ao usuário qual será o valor a ser sacado (número inteiro) e o programa vai informar quantas cédulas de cada valor serão entregues. \n",
        "OBS:considere que o caixa possui cédulas de R$50, R$20, R$10 e R$1.'''\n",
        "import math\n",
        "valor = int(input('Qual o valor do saque?'))\n",
        "print('Foram entregues:')\n",
        "if valor >= 50:\n",
        "  print('{} notas de 50 reais'.format(math.floor(valor/50)))\n",
        "if valor%50 >= 20:\n",
        "  print('{} notas de 20 reais'.format(math.floor((valor%50)/20)))\n",
        "if valor%20 >= 10:\n",
        "  print('{} notas de 10 reais'.format(math.floor((valor%20)/10)))\n",
        "if valor%10 >= 1:\n",
        "  print('{} notas de 1 real'.format(math.floor((valor%10))))"
      ],
      "execution_count": null,
      "outputs": []
    },
    {
      "cell_type": "code",
      "metadata": {
        "id": "g2lYEKxRwJ23",
        "outputId": "86ba0a82-0f38-4948-a723-7a542bd5e6ef",
        "colab": {
          "base_uri": "https://localhost:8080/",
          "height": 85
        }
      },
      "source": [
        "# metodo professor\n",
        "valor = int(input('Qual o valor do saque?'))\n",
        "total = valor\n",
        "ced = 50\n",
        "totalced = 0\n",
        "while True:\n",
        "  if total >= ced:\n",
        "    totalced += 1\n",
        "    total -= ced\n",
        "  else:\n",
        "    if totalced > 0:\n",
        "      print(f'O total foram {totalced} cédulas de {ced} reais')\n",
        "    if ced == 50:\n",
        "      ced = 20\n",
        "    elif ced == 20:\n",
        "      ced = 10\n",
        "    elif ced == 10:\n",
        "      ced = 1\n",
        "    totalced = 0\n",
        "    if total == 0:\n",
        "      break\n",
        "print('FIM')"
      ],
      "execution_count": null,
      "outputs": [
        {
          "output_type": "stream",
          "text": [
            "Qual o valor do saque?21\n",
            "O total foram 1 cédulas de 20 reais\n",
            "O total foram 1 cédulas de 1 reais\n",
            "FIM\n"
          ],
          "name": "stdout"
        }
      ]
    }
  ]
}