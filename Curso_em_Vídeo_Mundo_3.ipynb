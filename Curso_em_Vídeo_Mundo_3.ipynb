{
  "nbformat": 4,
  "nbformat_minor": 0,
  "metadata": {
    "colab": {
      "name": "Curso em Vídeo Mundo 3.ipynb",
      "provenance": [],
      "authorship_tag": "ABX9TyMkQu6I0ENL3zQffKnjGST+",
      "include_colab_link": true
    },
    "kernelspec": {
      "name": "python3",
      "display_name": "Python 3"
    }
  },
  "cells": [
    {
      "cell_type": "markdown",
      "metadata": {
        "id": "view-in-github",
        "colab_type": "text"
      },
      "source": [
        "<a href=\"https://colab.research.google.com/github/arianerfrancisco/Projetos-Colab/blob/main/Curso_em_V%C3%ADdeo_Mundo_3.ipynb\" target=\"_parent\"><img src=\"https://colab.research.google.com/assets/colab-badge.svg\" alt=\"Open In Colab\"/></a>"
      ]
    },
    {
      "cell_type": "code",
      "metadata": {
        "id": "5JDRe_CJVaF9",
        "outputId": "2338b8fb-fe0f-4049-90b3-48ef26582fb3",
        "colab": {
          "base_uri": "https://localhost:8080/",
          "height": 68
        }
      },
      "source": [
        "'''Crie um programa que tenha uma dupla totalmente preenchida com uma contagem por extenso, de zero até vinte. \n",
        "Seu programa deverá ler um número pelo teclado (entre 0 e 20) e mostrá-lo por extenso.'''\n",
        "numero = ' '\n",
        "extenso = ('zero','um', 'dois', 'tres', 'quatro', 'cinco', 'seis', 'sete', 'oito', 'nove',\n",
        "           'dez', 'onze', 'doze', 'treze', 'catorze', 'quinze', 'dezesseis', 'dezessete', 'dezoito', 'dezenove', 'vinte')\n",
        "while numero not in range(0,21):\n",
        "  numero = int(input('Informe um número de 0 a 20: '))\n",
        "  for c in range(0,len(extenso)):\n",
        "    if c == numero:\n",
        "      print(extenso[c])\n",
        "print('Fim da execução')"
      ],
      "execution_count": null,
      "outputs": [
        {
          "output_type": "stream",
          "text": [
            "Informe um número de 0 a 20: 2\n",
            "dois\n",
            "Fim da execução\n"
          ],
          "name": "stdout"
        }
      ]
    },
    {
      "cell_type": "code",
      "metadata": {
        "id": "Xv63AQkpeYDh",
        "outputId": "b4db49d1-4cf3-498c-9fa9-92bdc4e2b11d",
        "colab": {
          "base_uri": "https://localhost:8080/",
          "height": 68
        }
      },
      "source": [
        "# metodo professor\n",
        "extenso = ('zero','um', 'dois', 'tres', 'quatro', 'cinco', 'seis', 'sete', 'oito', 'nove',\n",
        "           'dez', 'onze', 'doze', 'treze', 'catorze', 'quinze', 'dezesseis', 'dezessete', 'dezoito', 'dezenove', 'vinte')\n",
        "while True:\n",
        "  núm = int(input('Informe um número de 0 a 20: '))\n",
        "  if 0 <= núm <= 20:\n",
        "    break\n",
        "  print('Tente novamente ', end='')\n",
        "print(f'Você digitou o número {extenso[núm]}')"
      ],
      "execution_count": null,
      "outputs": [
        {
          "output_type": "stream",
          "text": [
            "Informe um número de 0 a 20: 77\n",
            "Tente novamente Informe um número de 0 a 20: 2\n",
            "Você digitou o número dois\n"
          ],
          "name": "stdout"
        }
      ]
    },
    {
      "cell_type": "code",
      "metadata": {
        "id": "ILeKheFEf4pg",
        "outputId": "6848450c-0109-49d2-8adc-7ea54828e59e",
        "colab": {
          "base_uri": "https://localhost:8080/",
          "height": 138
        }
      },
      "source": [
        "'''Crie uma tupla preenchida com os 20 primeiros colocados da Tabela do Campeonato Brasileiro de Futebol, na ordem de colocação.\n",
        "Depois mostre: \n",
        "a) Os 5 primeiros times.\n",
        "b) Os últimos 4 colocados.\n",
        "c) Times em ordem alfabética.\n",
        "d) Em que posição está o time da Chapecoense.'''\n",
        "print('=-' * 40)\n",
        "times = ('Grêmio', 'Vasco da Gama', 'Fortaleza', 'Fluminense', 'Sport Recife',\n",
        "         'Athletico-PR', 'Atlético-MG', 'Ceará-SC', 'Internacional', 'Coritiba',\n",
        "         'Bahia', 'São Paulo', 'Botafogo', 'Goiás', 'Santos', 'Bragantino-SP',\n",
        "         'Atlético-GO', 'Palmeiras', 'Corinthians', 'Flamengo')\n",
        "print(f'Os 5 primeiros times:{times[0:5]}')\n",
        "print(f'Os 4 últimos colocados:{times[-4:]}')\n",
        "print(f'Os times em ordem alfabética:{sorted(times)}')\n",
        "print(f'O Palmeiras está na {times.index(\"Palmeiras\")} posição')\n",
        "print('=-' * 40)"
      ],
      "execution_count": null,
      "outputs": [
        {
          "output_type": "stream",
          "text": [
            "=-=-=-=-=-=-=-=-=-=-=-=-=-=-=-=-=-=-=-=-=-=-=-=-=-=-=-=-=-=-=-=-=-=-=-=-=-=-=-=-\n",
            "Os 5 primeiros times:('Grêmio', 'Vasco da Gama', 'Fortaleza', 'Fluminense', 'Sport Recife')\n",
            "Os 4 últimos colocados:('Atlético-GO', 'Palmeiras', 'Corinthians', 'Flamengo')\n",
            "Os times em ordem alfabética:['Athletico-PR', 'Atlético-GO', 'Atlético-MG', 'Bahia', 'Botafogo', 'Bragantino-SP', 'Ceará-SC', 'Corinthians', 'Coritiba', 'Flamengo', 'Fluminense', 'Fortaleza', 'Goiás', 'Grêmio', 'Internacional', 'Palmeiras', 'Santos', 'Sport Recife', 'São Paulo', 'Vasco da Gama']\n",
            "O Palmeiras está na 17 posição\n",
            "=-=-=-=-=-=-=-=-=-=-=-=-=-=-=-=-=-=-=-=-=-=-=-=-=-=-=-=-=-=-=-=-=-=-=-=-=-=-=-=-\n"
          ],
          "name": "stdout"
        }
      ]
    },
    {
      "cell_type": "code",
      "metadata": {
        "id": "spN-w5vkVCfb",
        "outputId": "a4e9896d-6c20-4243-9f69-da9be2c9da46",
        "colab": {
          "base_uri": "https://localhost:8080/",
          "height": 50
        }
      },
      "source": [
        "'''Crie um programa que vai gerar cinco números aleatórios e colocar em uma tupla. \n",
        "Depois disso, mostre a listagem de números gerados e também indique o menor e o maior valor que estão na tupla.'''\n",
        "from random import randint\n",
        "tupla = (randint(0,9),randint(0,9), randint(0,9),randint(0,9),randint(0,9))\n",
        "print(tupla)\n",
        "min(tupla)\n",
        "max(tupla)"
      ],
      "execution_count": null,
      "outputs": [
        {
          "output_type": "stream",
          "text": [
            "(6, 7, 3, 2, 3)\n"
          ],
          "name": "stdout"
        },
        {
          "output_type": "execute_result",
          "data": {
            "text/plain": [
              "7"
            ]
          },
          "metadata": {
            "tags": []
          },
          "execution_count": 14
        }
      ]
    },
    {
      "cell_type": "code",
      "metadata": {
        "id": "_yVnLQaTIlWS",
        "outputId": "27abd60b-b37c-4f91-c043-19e532dac87c",
        "colab": {
          "base_uri": "https://localhost:8080/",
          "height": 182
        }
      },
      "source": [
        "'''Desenvolva um programa que leia quatro valores pelo teclado e guarde-os em uma tupla. No final, mostre:\n",
        "A) Quantas vezes apareceu o valor 9.\n",
        "B) Em que posição foi digitado o primeiro valor 3.\n",
        "C) Quais foram os números pares.'''\n",
        "n1 = int(input('Insira um número'))\n",
        "n2 = int(input('Insira um número'))\n",
        "n3 = int(input('Insira um número'))\n",
        "n4 = int(input('Insira um número'))\n",
        "tupla = (n1, n2, n3, n4)\n",
        "print(tupla)\n",
        "print(f'O valor 9 apareceu {tupla.count(9)} vezes')\n",
        "if 3 in tupla:\n",
        "  print(f'O número 3 apareceu pela primeira vez na {tupla.index(3)+1}ª posição')\n",
        "else:\n",
        "  print('O valor 3 não foi encontrado')\n",
        "print(f'Os números pares digitados foram')\n",
        "for c in tupla:\n",
        "  if c%2 == 0:\n",
        "    print(c, end=' ')"
      ],
      "execution_count": null,
      "outputs": [
        {
          "output_type": "stream",
          "text": [
            "Insira um número84\n",
            "Insira um número9\n",
            "Insira um número3\n",
            "Insira um número74\n",
            "(84, 9, 3, 74)\n",
            "O valor 9 apareceu 1 vezes\n",
            "O número 3 apareceu pela primeira vez na 3ª posição\n",
            "Os números pares digitados foram\n",
            "84 74 "
          ],
          "name": "stdout"
        }
      ]
    },
    {
      "cell_type": "code",
      "metadata": {
        "id": "PA8d-u3DNpYk",
        "outputId": "fb8d314b-e056-437b-cede-24493da5844e",
        "colab": {
          "base_uri": "https://localhost:8080/",
          "height": 237
        }
      },
      "source": [
        " '''Crie um programa que tenha uma tupla única com nomes de produtos e seus respectivos preços, na sequência.\n",
        "  No final, mostre uma listagem de preços, organizando os dados em forma tabular.'''\n",
        "listagem = (\"Lápis\", 1.75, \"Borracha\", 2.00, \"Caderno\", 15.90, \"Estojo\", 25.00, \"Transferidor\", 4.20,\n",
        "\n",
        "            \"Compasso\", 9.99, \"Mochila\", 120.32, \"Canetas\", 22.30, \"Livro\", 34.90)\n",
        "print('='*30)\n",
        "print('Listagem de preços')\n",
        "print('='*30)\n",
        "for pos in range(0,len(listagem)):\n",
        "  if pos % 2 == 0:\n",
        "    print(f'{listagem[pos]:.<30}',end='')\n",
        "  else:\n",
        "    print(f'R${listagem[pos]:.>12}')\n"
      ],
      "execution_count": null,
      "outputs": [
        {
          "output_type": "stream",
          "text": [
            "==============================\n",
            "Listagem de preços\n",
            "==============================\n",
            "Lápis.........................R$........1.75\n",
            "Borracha......................R$.........2.0\n",
            "Caderno.......................R$........15.9\n",
            "Estojo........................R$........25.0\n",
            "Transferidor..................R$.........4.2\n",
            "Compasso......................R$........9.99\n",
            "Mochila.......................R$......120.32\n",
            "Canetas.......................R$........22.3\n",
            "Livro.........................R$........34.9\n"
          ],
          "name": "stdout"
        }
      ]
    },
    {
      "cell_type": "code",
      "metadata": {
        "id": "tQbfDkyPkg1N",
        "outputId": "0aaf18bb-d2f3-43ef-ba6d-c0e4721186b8",
        "colab": {
          "base_uri": "https://localhost:8080/",
          "height": 90
        }
      },
      "source": [
        "'''Crie um programa que tenha uma tupla com várias palavras (não usar acentos). Depois disso, você deve mostrar, para cada palavra, quais são as suas vogais.'''\n",
        "tupla = ('casa','cachorro','gato')\n",
        "for c in tupla:\n",
        "  print(f'\\nA palavra {c} contêm as seguintes vogais: ',end='')\n",
        "  for y in c:\n",
        "      if y in 'aeiou':\n",
        "        print(y,end='')"
      ],
      "execution_count": null,
      "outputs": [
        {
          "output_type": "stream",
          "text": [
            "\n",
            "A palavra casa contem as seguintes vogais: aa\n",
            "A palavra cachorro contem as seguintes vogais: aoo\n",
            "A palavra gato contem as seguintes vogais: ao"
          ],
          "name": "stdout"
        }
      ]
    }
  ]
}