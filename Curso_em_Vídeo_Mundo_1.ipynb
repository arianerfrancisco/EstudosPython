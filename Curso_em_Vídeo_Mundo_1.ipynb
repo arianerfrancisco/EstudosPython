{
  "nbformat": 4,
  "nbformat_minor": 0,
  "metadata": {
    "colab": {
      "name": "Curso em Vídeo Mundo 1.ipynb",
      "provenance": [],
      "collapsed_sections": [],
      "mount_file_id": "1B8Vf7Dd7nDruA6H6tEzDuaU5vEhT9XqP",
      "authorship_tag": "ABX9TyP5deQJqr+MD1oJwAZoBaR6",
      "include_colab_link": true
    },
    "kernelspec": {
      "name": "python3",
      "display_name": "Python 3"
    }
  },
  "cells": [
    {
      "cell_type": "markdown",
      "metadata": {
        "id": "view-in-github",
        "colab_type": "text"
      },
      "source": [
        "<a href=\"https://colab.research.google.com/github/arianerfrancisco/Projetos-Colab/blob/main/Curso_em_V%C3%ADdeo_Mundo_1.ipynb\" target=\"_parent\"><img src=\"https://colab.research.google.com/assets/colab-badge.svg\" alt=\"Open In Colab\"/></a>"
      ]
    },
    {
      "cell_type": "code",
      "metadata": {
        "id": "jykDUd0XAS3W",
        "outputId": "07fa9aff-d712-4a41-e10d-5a39d4d663d1",
        "colab": {
          "base_uri": "https://localhost:8080/",
          "height": 51
        }
      },
      "source": [
        "nome = input (\" Digite seu nome\")\n",
        "print(\"Bem vindo\", nome, \"!\")\n",
        "# referencia pyhton 2.0"
      ],
      "execution_count": null,
      "outputs": [
        {
          "output_type": "stream",
          "text": [
            " Digite seu nomeAriane\n",
            "Bem vindo Ariane !\n"
          ],
          "name": "stdout"
        }
      ]
    },
    {
      "cell_type": "code",
      "metadata": {
        "id": "KGMNNsUegIZ1",
        "outputId": "5a635420-f515-451d-9dfd-6f1ff1adcc8a",
        "colab": {
          "base_uri": "https://localhost:8080/",
          "height": 68
        }
      },
      "source": [
        "# Carro Alugado\n",
        "km = float ( input ( 'Quantos km irá rodar?'))\n",
        "dia = float  ( input ( 'Quantos dias?')) \n",
        "preco = km*0.15 + dia*60\n",
        "print ( 'O preço a pagar será de:{:.2f} reais!' .format(preco))"
      ],
      "execution_count": null,
      "outputs": [
        {
          "output_type": "stream",
          "text": [
            "Quantos km irá rodar?522\n",
            "Quantos dias?1.5\n",
            "O preço a pagar será de:168.30 reais!\n"
          ],
          "name": "stdout"
        }
      ]
    },
    {
      "cell_type": "code",
      "metadata": {
        "id": "fWkcDrNJgIgD"
      },
      "source": [
        "Módulos:\n",
        "ceil: arrodandamento para cima\n",
        "floor: arrendondamento para baixo\n",
        "trunc: vai eliminar o número após a vírgula\n",
        "pow: potencia // sqrt: raiz quadrada // factorial: fatorial ex: math.sqrt\n",
        "importar apenas uma função da uma biblioteca: from math import sqrt"
      ],
      "execution_count": null,
      "outputs": []
    },
    {
      "cell_type": "code",
      "metadata": {
        "id": "Khf1N6dubg4c",
        "outputId": "ac45f4c1-6929-4f3f-9839-d76f1d2947b0",
        "colab": {
          "base_uri": "https://localhost:8080/",
          "height": 51
        }
      },
      "source": [
        "# Crie um programa que leia um número real e mostre-o como inteiro:\n",
        "numero = float (input('Favor informe um número real:'))\n",
        "conversao = int(numero)\n",
        "print (conversao)"
      ],
      "execution_count": null,
      "outputs": [
        {
          "output_type": "stream",
          "text": [
            "Favor informe um número real:22.22\n",
            "22\n"
          ],
          "name": "stdout"
        }
      ]
    },
    {
      "cell_type": "code",
      "metadata": {
        "id": "Rj-b-j-5bhH0",
        "outputId": "f5c217ff-f328-4dd1-cc1a-2506324c0e51",
        "colab": {
          "base_uri": "https://localhost:8080/",
          "height": 51
        }
      },
      "source": [
        "from math import trunc\n",
        "num = float (input ('Favor informe um número real:'))\n",
        "print(math.trunc(num))"
      ],
      "execution_count": null,
      "outputs": [
        {
          "output_type": "stream",
          "text": [
            "Favor informe um número real:22.22\n",
            "22\n"
          ],
          "name": "stdout"
        }
      ]
    },
    {
      "cell_type": "code",
      "metadata": {
        "id": "WpotwfximqHw",
        "outputId": "7e98b4c3-fd90-402d-bf20-f2c51219531d",
        "colab": {
          "base_uri": "https://localhost:8080/",
          "height": 68
        }
      },
      "source": [
        "# Faça um programa que leia o comprimento do cateto oposto e do cateto adjacente de um triângulo retângulo. Calcule e mostre o comprimento da hipotenusa.\n",
        "import math\n",
        "co = float ( input ('Informe o comprimento do cateto oposto:'))\n",
        "ca = float ( input ('Informe o comprimento do cateto adjacente:'))\n",
        "hi = math.sqrt((co**2)+(ca**2))\n",
        "print ( 'A hiponetusa é {:.2f}' .format(hi))"
      ],
      "execution_count": null,
      "outputs": [
        {
          "output_type": "stream",
          "text": [
            " Informe o comprimento do cateto oposto:2\n",
            " Informe o comprimento do cateto adjacente:2.5\n",
            "A hiponetusa é 3.20\n"
          ],
          "name": "stdout"
        }
      ]
    },
    {
      "cell_type": "code",
      "metadata": {
        "id": "2_Q6xsJpmqxW",
        "outputId": "b69c5061-c937-4ba9-b16d-9f1e2374a66d",
        "colab": {
          "base_uri": "https://localhost:8080/",
          "height": 68
        }
      },
      "source": [
        "from math import hypot\n",
        "# Quando importa as funções especificas de uma bibliotexa nao precisa referenciar Ex: math.hypot() > hypot()\n",
        "co = float ( input (' Informe o comprimento do cateto oposto:'))\n",
        "ca = float ( input (' Informe o comprimento do cateto adjacente:'))\n",
        "hi = hypot(co, ca)\n",
        "print ( 'A hiponetusa é {:.2f}' .format(hi))"
      ],
      "execution_count": null,
      "outputs": [
        {
          "output_type": "stream",
          "text": [
            " Informe o comprimento do cateto oposto:2\n",
            " Informe o comprimento do cateto adjacente:2.5\n",
            "A hiponetusa é 3.20\n"
          ],
          "name": "stdout"
        }
      ]
    },
    {
      "cell_type": "code",
      "metadata": {
        "id": "HUdldSSomuQz",
        "outputId": "f280f034-9c8c-4bfe-c209-e64ee620ca51",
        "colab": {
          "base_uri": "https://localhost:8080/",
          "height": 85
        }
      },
      "source": [
        "# Faça um programa que leia um ângulo qualquer e mostre na tela o valor do seno, cosseno e tangente desse ângulo.\n",
        "# Quando importa as funções especificas de uma bibliotexa nao precisa referenciar Ex: math.sin() > sin()\n",
        "from math import radians, sin, cos, tan\n",
        "ang= float ( input (' Favor informe o Ângulo:'))\n",
        "print ('O ângulo informado tem o seno: {:.2f}' .format(sin(radians(ang))))\n",
        "print ('O ângulo informado tem o seno: {:.2f}' .format(cos(radians(ang))))\n",
        "print ('O ângulo informado tem o seno: {:.2f}' .format(tan(radians(ang))))\n"
      ],
      "execution_count": null,
      "outputs": [
        {
          "output_type": "stream",
          "text": [
            " Favor informe o Ângulo:30\n",
            "O ângulo informado tem o seno: 0.50\n",
            "O ângulo informado tem o seno: 0.87\n",
            "O ângulo informado tem o seno: 0.58\n"
          ],
          "name": "stdout"
        }
      ]
    },
    {
      "cell_type": "code",
      "metadata": {
        "id": "tWou698Jmq6d",
        "outputId": "65eed6ac-1f91-473f-ccd9-d0b0e82279fd",
        "colab": {
          "base_uri": "https://localhost:8080/",
          "height": 102
        }
      },
      "source": [
        "#Um professor quer sortear um dos seus quatro alunos para apagar o quadro. Faça um programa que ajude ele, lendo o nome dos alunos e escrevendo na tela o nome do escolhido.\n",
        "import random\n",
        "al1= str (input ( \" Favor informe o primeiro nome:\"))\n",
        "al2= str (input ( \" Favor informe o segundo nome:\"))\n",
        "al3= str (input ( \" Favor informe o terceiro nome:\"))\n",
        "al4= str (input ( \" Favor informe o quarto nome:\"))\n",
        "lista = [al1, al2, al3, al4]\n",
        "print(' O aluno escolhifo foi: {}' .format(random.choice(lista)))"
      ],
      "execution_count": null,
      "outputs": [
        {
          "output_type": "stream",
          "text": [
            " Favor informe o primeiro nome:ana\n",
            " Favor informe o segundo nome:maria\n",
            " Favor informe o terceiro nome:pedro\n",
            " Favor informe o quarto nome:jose\n",
            " O aluno escolhifo foi: pedro\n"
          ],
          "name": "stdout"
        }
      ]
    },
    {
      "cell_type": "code",
      "metadata": {
        "id": "r95BZPmpveTw",
        "outputId": "603ab474-d34a-40bd-b82e-cabbcef18839",
        "colab": {
          "base_uri": "https://localhost:8080/",
          "height": 102
        }
      },
      "source": [
        "# O mesmo professor do desafio 19 quer sortear a ordem de apresentação de trabalhos dos alunos. Faça um programa que leia o nome dos quatro alunos e mostre a ordem sorteada.\n",
        "from random import shuffle\n",
        "al1 = str ( input ('Favor informe o nome do primeiro aluno:'))\n",
        "al2 = str ( input ('Favor informe o nome do segundo aluno'))\n",
        "al3 = str ( input ('Favor informeo nome do terceiro aluno'))\n",
        "al4 = str ( input ('Favor informe o nome do quarto aluno'))\n",
        "lista = [al1, al2, al3, al4]\n",
        "shuffle(lista)\n",
        "print ('A ordem de apresentação será: {}'.format(lista))"
      ],
      "execution_count": null,
      "outputs": [
        {
          "output_type": "stream",
          "text": [
            "Favor informe o nome do primeiro aluno:maria\n",
            "Favor informe o nome do segundo alunoana\n",
            "Favor informeo nome do terceiro alunojoao\n",
            "Favor informe o nome do quarto alunojose\n",
            "A ordem de apresentação será: ['maria', 'ana', 'joao', 'jose']\n"
          ],
          "name": "stdout"
        }
      ]
    },
    {
      "cell_type": "code",
      "metadata": {
        "id": "3QKYyDaXvhdY"
      },
      "source": [
        "#!pip install pygame \n",
        "import pygame\n",
        "from pygame.locals import *\n",
        "pygame.init()\n",
        "pygame.mixer.init()\n",
        "pygame.mixer.music.load('/content/drive/My Drive/Colab Notebooks/mus1.mp3')\n",
        "pygame.music.play()\n",
        "while pygame.music.get_busy() == True: continue"
      ],
      "execution_count": null,
      "outputs": []
    },
    {
      "cell_type": "code",
      "metadata": {
        "id": "01zSoAZfvhxx"
      },
      "source": [
        "# Manipulando textos\n",
        "frase = (' Hello World')\n",
        "frase[2:8:2] > fatiamento\n",
        "frase[0] > retorna o primeiro caractere\n",
        "frase [-1] >  retorna o ultimo caractere, quando nao se sabe a quantidade de indices\n",
        "obj[9]> traz o indice 9 da string, lembrando que a contagem inicia a partir do 0.\n",
        "obj.replace ('Python', 'Android') > onde estiver Python será substituido por Android.\n",
        "obj.upper() > maiúsculo\n",
        "obj.lower() > minúsculo\n",
        "len(obj)> traz seu comprimento\n",
        "frase.count(o)> contará quantas vezes aparecerá 'o' na string\n",
        "frase.count('o',0,13)> contará quantas vezes aparecerá 'o' na string com fatiamento\n",
        "frase.find('deo') > ele trará o indíce que encontrou 'deo'\n",
        "obj.capitalize() > Deixa apenas a primeira letra maiúscula\n",
        "obj.title() > Ele vai contar a quantidade de palavras na frase, a partir da sua quebra por espaços. Vai deixar maiúscula a inicial de cada palavra.\n",
        "obj.strip() > Remove os espaços em excesso do ínicio e final de cada frase.\n",
        "obj.rstrip() > Remove os espaços do final de cada frase.\n",
        "obj.lstrip() > Remove os espaços em excesso do ínicio de cada frase. \n",
        "obj.split() > Divide a string a partir dos seus espaços\n",
        "frase(::2) > pular de 2 em 2, quando não sei aonde finaliza o caractere. Como não foi especificado o ínicio, irá fatiar a string inteira\n",
        "'-'.join(frase) > Irá acrescentar o caractere - entre palavras > juntá-las e virando assim uma string única ( em caso de nomes separados por lista)\n",
        "Quando o python retornar -1: significa que não existe\n",
        "print('curso' in obj) > ele irá procurar por elementos numa frase"
      ],
      "execution_count": null,
      "outputs": []
    },
    {
      "cell_type": "code",
      "metadata": {
        "id": "0z0MjEiEviA8",
        "outputId": "437996a1-f350-4018-b9c9-7c14d94c3a47",
        "colab": {
          "base_uri": "https://localhost:8080/",
          "height": 119
        }
      },
      "source": [
        "#Crie um programa que leia o nome completo de uma pessoa e mostre: O nome com todas as letras maiúsculas e minúsculas, quantas letras ao todo (sem considerar espaços) e quantas letras tem o primeiro nome:\n",
        "nome = str ( input ('Favor informe seu nome completo:')).strip()\n",
        "print('Seu nome em maiúsculas é {}!' .format(nome.upper()))\n",
        "print('Seu nome em minúsculas é {}!' .format(nome.lower()))\n",
        "print('Seu nome tem {} letras' .format(len(nome) - nome.count(' ')))\n",
        "print('Seu primeito nome tem {} letras' .format(nome.find(' ')))\n",
        "# outra forma de resolver o segundo item\n",
        "separa = nome.split()\n",
        "print ( 'Seu primeito tem nome {} letras' .format(len(separa[0])))"
      ],
      "execution_count": null,
      "outputs": [
        {
          "output_type": "stream",
          "text": [
            "Favor informe seu nome completo:Ana Maria Braga\n",
            "Seu nome em maiúsculas é ANA MARIA BRAGA!\n",
            "Seu nome em minúsculas é ana maria braga!\n",
            "Seu nome tem 13 letras\n",
            "Seu primeito nome tem 3 letras\n",
            "Seu primeito tem 3 letras\n"
          ],
          "name": "stdout"
        }
      ]
    },
    {
      "cell_type": "code",
      "metadata": {
        "id": "pldarV1b7i6w",
        "outputId": "7f4bb77c-b2c6-4183-a1fc-e36de491e3de",
        "colab": {
          "base_uri": "https://localhost:8080/",
          "height": 102
        }
      },
      "source": [
        "# Faça um programa que leia um número de 0 a 9999 e mostre na tela cada um dos dígitos separados.\n",
        "# Caso queira imprimir na tela todos os números\n",
        "numero = int ( input (' Informe um número de 0 a 9999'))\n",
        "#num = str(numero)\n",
        "#print( 'Analisando o número')\n",
        "#print( 'Unidade {}:' .format(num[3]))\n",
        "#print( 'Dezena {}:' .format(num[2]))\n",
        "#print( 'Centena {}:' .format(num[1]))\n",
        "#print( 'Milhar {}:' .format(num[0]))\n",
        "# o codigo acima só funciona se for digitado 4 digitos\n",
        "u = numero // 1 %10\n",
        "d = numero // 10 %10\n",
        "c = numero // 100 %10\n",
        "m = numero // 1000 %10\n",
        "print( 'Unidade {}:' .format(u))\n",
        "print( 'Dezena {}:' .format(d))\n",
        "print( 'Centena {}:' .format(c))\n",
        "print( 'Milhar {}:' .format(m))"
      ],
      "execution_count": null,
      "outputs": [
        {
          "output_type": "stream",
          "text": [
            " Informe um número de 0 a 99991582\n",
            "Unidade 2:\n",
            "Dezena 8:\n",
            "Centena 5:\n",
            "Milhar 1:\n"
          ],
          "name": "stdout"
        }
      ]
    },
    {
      "cell_type": "code",
      "metadata": {
        "id": "RaiLtjAU7jGX",
        "outputId": "e74e7217-ae14-4282-8c14-e7668ba1f033",
        "colab": {
          "base_uri": "https://localhost:8080/",
          "height": 68
        }
      },
      "source": [
        "# Crie um programa que leia o nome de uma cidade diga se ela começa ou não com o nome “SANTO”.\n",
        "nome = str (input(' Favor informe o nome da cidade'))\n",
        "separa = nome.split()\n",
        "print('SANTO' in separa[0].upper())\n",
        "# este upper validará caso o usuário digite minusculo\n",
        "# outra resolucao\n",
        "print(nome[:5].upper() == 'SANTO')"
      ],
      "execution_count": null,
      "outputs": [
        {
          "output_type": "stream",
          "text": [
            " Favor informe o nome da cidadesanto andre\n",
            "True\n",
            "True\n"
          ],
          "name": "stdout"
        }
      ]
    },
    {
      "cell_type": "code",
      "metadata": {
        "id": "9XXT1EbU7jyi",
        "outputId": "86b3f58c-a89c-45c1-e4be-2cdcc340b6ad",
        "colab": {
          "base_uri": "https://localhost:8080/",
          "height": 68
        }
      },
      "source": [
        "#Crie um programa que leia o nome de uma pessoa e diga se ela tem “SILVA” no nome.\n",
        "nome = str( input ('Favor informe seu nome:')).strip()\n",
        "print ('Seu nome tem Silva?')\n",
        "print ('SILVA' in nome.upper())"
      ],
      "execution_count": null,
      "outputs": [
        {
          "output_type": "stream",
          "text": [
            "Favor informe seu nome:maria silva\n",
            "Seu nome tem Silva?\n",
            "True\n"
          ],
          "name": "stdout"
        }
      ]
    },
    {
      "cell_type": "code",
      "metadata": {
        "id": "09rkD3gLZ9yR",
        "outputId": "efdf429b-aa07-4b5e-c350-f049f24c3289",
        "colab": {
          "base_uri": "https://localhost:8080/",
          "height": 85
        }
      },
      "source": [
        "#Faça um programa que leia uma frase pelo teclado e mostre quantas vezes aparece a letra “A”, em que posição ela aparece a primeira vez e em que posição ela aparece a última vez.\n",
        "nome = str ( input ('Informe uma frase:')).upper()\n",
        "#upper para não ocorrer problemas caso o usuario digite minuscula\n",
        "print('A frase tem {} letras A' .format(nome.count('A')))\n",
        "print('A letra A da frase aparece pela primeira vez na posição {}:' .format(nome.find('A') + 1))\n",
        "print('A letra A da frase aparece pela última vez na posição {}:' .format(nome.rfind('A') + 1))"
      ],
      "execution_count": null,
      "outputs": [
        {
          "output_type": "stream",
          "text": [
            "Informe uma frase:ariane\n",
            "A frase tem 2 letras A\n",
            "A letra A da frase aparece pela primeira vez na posição 1:\n",
            "A letra A da frase aparece pela última vez na posição 4:\n"
          ],
          "name": "stdout"
        }
      ]
    },
    {
      "cell_type": "code",
      "metadata": {
        "id": "YiOX-7vDZ_rz",
        "outputId": "6ff3b1aa-a8e2-454b-8a2b-ce6e0fe5ad2f",
        "colab": {
          "base_uri": "https://localhost:8080/",
          "height": 85
        }
      },
      "source": [
        "#Faça um programa que leia o nome completo de uma pessoa, mostrando em seguida o primeiro e o último nome separadamente.\n",
        "nome1 = str ( input ( 'Informe seu nome'))\n",
        "nome2 =nome1.split()\n",
        "print ('Seu primeiro nome é: {}' .format(nome2[0]))\n",
        "print ('Seu último nome é: {}' .format(nome2[-1]))\n",
        "# outra resolucao \n",
        "print ('Seu último nome é: {}' .format(nome2[len(nome2)-1]))"
      ],
      "execution_count": null,
      "outputs": [
        {
          "output_type": "stream",
          "text": [
            "Informe seu nomeariane rocha francisco\n",
            "Seu primeiro nome é: ariane\n",
            "Seu último nome é: francisco\n",
            "Seu último nome é: francisco\n"
          ],
          "name": "stdout"
        }
      ]
    },
    {
      "cell_type": "code",
      "metadata": {
        "id": "ndEn4ecpZ_1i"
      },
      "source": [
        "# condicionais\n",
        "forma simplificada > print('carro novo' if tempo <=3 else 'carro velho')"
      ],
      "execution_count": null,
      "outputs": []
    },
    {
      "cell_type": "code",
      "metadata": {
        "id": "E1Uili4tZ_-H",
        "outputId": "2d22eb51-f288-46fc-d0e2-68a56901a6d4",
        "colab": {
          "base_uri": "https://localhost:8080/",
          "height": 85
        }
      },
      "source": [
        "'''Escreva um programa que faça o computador “pensar” em um número inteiro entre 0 e 5 e peça para o usuário tentar descobrir qual foi o número escolhido pelo computador.\n",
        "O programa deverá escrever na tela se o usuário venceu ou perdeu.'''\n",
        "from time import sleep\n",
        "from random import randint\n",
        "jogador = int ( input ('Pense em um número de 0 a 5:'))\n",
        "computador = randint(0,6)\n",
        "print('PROCESSANDO...')\n",
        "sleep(3) #pausa de 3 segundos na execução\n",
        "print ('Eu pensei {}' .format(computador))\n",
        "if jogador == computador:\n",
        "  print ('Você acertou!')\n",
        "else:\n",
        "  print ('Você errou!')"
      ],
      "execution_count": null,
      "outputs": [
        {
          "output_type": "stream",
          "text": [
            "Pense em um número de 0 a 5:3\n",
            "PROCESSANDO...\n",
            "Eu pensei 0\n",
            "Você errou!\n"
          ],
          "name": "stdout"
        }
      ]
    },
    {
      "cell_type": "code",
      "metadata": {
        "id": "XIomUnRraAET",
        "outputId": "345157fa-eb2c-4cbe-81e0-5c660760180d",
        "colab": {
          "base_uri": "https://localhost:8080/",
          "height": 51
        }
      },
      "source": [
        "'''Escreva um programa que leia a velocidade de um carro. Se ele ultrapassar 80Km/h, mostre uma mensagem dizendo que ele foi multado. \n",
        "A multa vai custar R$7,00 por cada Km acima do limite. '''\n",
        "velocidade =  float ( input ('Informe a velocidade atingida:'))\n",
        "multa = (velocidade - 80)*7\n",
        "if velocidade > 80:\n",
        "  print ('Você foi multado em {} reais' .format(multa))\n",
        "else:\n",
        "  print (' Você não foi multado!')"
      ],
      "execution_count": null,
      "outputs": [
        {
          "output_type": "stream",
          "text": [
            "Informe a velocidade atingida:800\n",
            "Você foi multado em 5040.0 reais\n"
          ],
          "name": "stdout"
        }
      ]
    },
    {
      "cell_type": "code",
      "metadata": {
        "id": "D84PJhgcaAJW",
        "outputId": "72a2b47a-fc02-4d86-f786-737a125304c2",
        "colab": {
          "base_uri": "https://localhost:8080/",
          "height": 51
        }
      },
      "source": [
        "#Crie um programa que leia um número inteiro e mostre na tela se ele é PAR ou ÍMPAR.\n",
        "numero = int ( input (' Favor informe um número'))\n",
        "if numero%2 == 0:\n",
        "  print('O número informado é par')\n",
        "else:\n",
        "  print('O número informado é ímpar')"
      ],
      "execution_count": null,
      "outputs": [
        {
          "output_type": "stream",
          "text": [
            " Favor informe um número3\n",
            "O número informado é ímpar\n"
          ],
          "name": "stdout"
        }
      ]
    },
    {
      "cell_type": "code",
      "metadata": {
        "id": "1adYNDmhpagk",
        "outputId": "9fc4486c-6158-4de6-cf7b-b2301b886f8f",
        "colab": {
          "base_uri": "https://localhost:8080/",
          "height": 51
        }
      },
      "source": [
        "#Desenvolva um programa que pergunte a distância de uma viagem em Km. Calcule o preço da passagem, cobrando R$0,50 por Km para viagens de até 200Km e R$0,45 parta viagens mais longas.\n",
        "km = float ( input (' Informe a distância da viagem em km:'))\n",
        "if km <= 200:\n",
        "  print('A viagem custará: {}' .format(km*0.5))\n",
        "else:\n",
        "  print('A viagem custará {}:' .format(km*0.45))\n",
        "# forma contraída > preco = distancia * 0.5 if <= 200 ekse distancia*0.45"
      ],
      "execution_count": null,
      "outputs": [
        {
          "output_type": "stream",
          "text": [
            " Informe a distância da viagem em km:300\n",
            "A viagem custará: 150.0\n"
          ],
          "name": "stdout"
        }
      ]
    },
    {
      "cell_type": "code",
      "metadata": {
        "id": "5a1IQlRDpbHB",
        "outputId": "493d2630-cf53-4380-9f66-f97ed814e7ff",
        "colab": {
          "base_uri": "https://localhost:8080/",
          "height": 50
        }
      },
      "source": [
        "#Faça um programa que leia um ano qualquer e mostre se ele é bissexto.\n",
        "from datetime import date\n",
        "ano =  int ( input ('Favor informe o ano. Coloque 0 caso queira o ano atual'))\n",
        "if ano ==0:\n",
        "  ano = date.today().year \n",
        "if ano % 4 == 0 and ano % 100 !=0 or ano % 400 == 0:\n",
        "  print ( ' O ano informado é bissexto!')\n",
        "else:\n",
        "  print (' O ano informado não é bissexto!')"
      ],
      "execution_count": null,
      "outputs": [
        {
          "output_type": "stream",
          "text": [
            "Favor informe o ano. Coloque 0 caso queira o ano atual0\n",
            " O ano informado é bissexto!\n"
          ],
          "name": "stdout"
        }
      ]
    },
    {
      "cell_type": "code",
      "metadata": {
        "id": "KAJI2NSD9w3I"
      },
      "source": [
        "!pip install pygame"
      ],
      "execution_count": null,
      "outputs": []
    },
    {
      "cell_type": "code",
      "metadata": {
        "id": "r5fu8xfdpbWt",
        "outputId": "5745f983-8de3-4c06-ad0e-cfda3d308e08",
        "colab": {
          "base_uri": "https://localhost:8080/",
          "height": 102
        }
      },
      "source": [
        "#Faça um programa que leia três números e mostre qual é o maior e qual é o menor.\n",
        "num1 = int (input ('Informe o primeiro número'))\n",
        "num2 = int (input ('Informe o segundo número'))\n",
        "num3 = int (input ('Informe o terceiro número'))\n",
        "\n",
        "menor = num1\n",
        "if num2 < num3 and num2 < num1:\n",
        "  menor = num2\n",
        "elif num3 < num1 and num3 < num2:\n",
        "  menor = num3\n",
        "\n",
        "maior = num1\n",
        "if num2 > num3 and num2 > num1:\n",
        "  maior = num2\n",
        "elif num3> num1 and num3 > num2:\n",
        "  maior = num3\n",
        "\n",
        "print ('O menor número é:{}' .format(menor))\n",
        "print ('O maior número é:{}' .format(maior))"
      ],
      "execution_count": null,
      "outputs": [
        {
          "output_type": "stream",
          "text": [
            "Informe o primeiro número3\n",
            "Informe o segundo número8\n",
            "Informe o terceiro número1\n",
            "O menor número é:1\n",
            "O maior número é:8\n"
          ],
          "name": "stdout"
        }
      ]
    },
    {
      "cell_type": "code",
      "metadata": {
        "id": "QrTNNy50LvC6",
        "outputId": "b3cddaac-778a-465d-96b2-6a0884c21dd3",
        "colab": {
          "base_uri": "https://localhost:8080/",
          "height": 51
        }
      },
      "source": [
        "'''Escreva um programa que pergunte o salário de um funcionário e calcule o valor do seu aumento. \n",
        "Para salários superiores a R$1250,00, calcule um aumento de 10%. Para os inferiores ou iguais, o aumento é de 15%.'''\n",
        "salario = float ( input (' Qual seu salário?'))\n",
        "\n",
        "if salario > 1250:\n",
        "  print('Seu aumento salarial será: {}reais' .format(salario*1.10))\n",
        "else:\n",
        "  print('Seu aumento salarial será: {}reais' .format(salario*1.15))"
      ],
      "execution_count": null,
      "outputs": [
        {
          "output_type": "stream",
          "text": [
            " Qual seu salário?1000\n",
            "Seu aumento salarial será: 1150.0reais\n"
          ],
          "name": "stdout"
        }
      ]
    },
    {
      "cell_type": "code",
      "metadata": {
        "id": "SZQL54vMLvmk",
        "outputId": "2d31fd2b-8ed3-4464-94d0-9024251c9381",
        "colab": {
          "base_uri": "https://localhost:8080/",
          "height": 85
        }
      },
      "source": [
        "# Desenvolva um programa que leia o comprimento de três retas e diga ao usuário se elas podem ou não formar um triângulo.\n",
        "r1 = float (input('Informe o primeiro segmento'))\n",
        "r2 = float (input('Informe o segundo segmento'))\n",
        "r3 = float (input('Informe o terceiro segmento'))\n",
        "if r1 < (r2 + r3) and r2 < (r1 + r3) and r3 < (r2 + r1):\n",
        "  print('Os segmentos formam um triângulo')\n",
        "else:\n",
        "  print('Os segmentos não formam um triângulo')"
      ],
      "execution_count": null,
      "outputs": [
        {
          "output_type": "stream",
          "text": [
            "Informe o primeiro segmento2\n",
            "Informe o segundo segmento4\n",
            "Informe o terceiro segmento6\n",
            "Os segmentos não formam um triângulo\n"
          ],
          "name": "stdout"
        }
      ]
    },
    {
      "cell_type": "code",
      "metadata": {
        "id": "wN_HZ7P0Lvy0"
      },
      "source": [
        "Cores em python: \\033[estilo;cordotexto,cordofundom > iniciar o código\n",
        "                  \\033[m > finalizar o código\n",
        "Definindo as cores por dicionário\n",
        "cores = {'limpa':'\\033[m',\n",
        "         'azul' : '\\033[34m',\n",
        "         'amarelo' : '\\033[33m',\n",
        "         'pretoebranco' : '\\033[7:30m'}\n",
        "Quando desejar utilizar as cores {} < no print \n",
        "cores['azul'] > no .format\n",
        "print('\\033[4;30;45mOlá, Mundo!\\033[m')"
      ],
      "execution_count": null,
      "outputs": []
    },
    {
      "cell_type": "code",
      "metadata": {
        "id": "EcZIW2kr7FHH"
      },
      "source": [
        ""
      ],
      "execution_count": null,
      "outputs": []
    }
  ]
}